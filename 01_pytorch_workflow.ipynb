{
  "cells": [
    {
      "cell_type": "markdown",
      "metadata": {
        "id": "view-in-github",
        "colab_type": "text"
      },
      "source": [
        "<a href=\"https://colab.research.google.com/github/Amir-Ali-Peymani/DL-practice/blob/main/01_pytorch_workflow.ipynb\" target=\"_parent\"><img src=\"https://colab.research.google.com/assets/colab-badge.svg\" alt=\"Open In Colab\"/></a>"
      ]
    },
    {
      "cell_type": "code",
      "execution_count": 34,
      "metadata": {
        "id": "exNjnjdHScs_"
      },
      "outputs": [],
      "source": [
        "import torch\n",
        "from torch import nn\n",
        "from sklearn.model_selection import train_test_split\n",
        "import matplotlib.pyplot as plt"
      ]
    },
    {
      "cell_type": "code",
      "execution_count": 25,
      "metadata": {
        "colab": {
          "base_uri": "https://localhost:8080/"
        },
        "id": "jRnQqqtwSkn0",
        "outputId": "d01e24fe-fc8e-4e38-a3c2-e93ef70d6020"
      },
      "outputs": [
        {
          "output_type": "stream",
          "name": "stdout",
          "text": [
            "tensor([[0.0000],\n",
            "        [0.0200],\n",
            "        [0.0400]])\n",
            "tensor([[0.3000],\n",
            "        [0.3140],\n",
            "        [0.3280]])\n"
          ]
        }
      ],
      "source": [
        "X = torch.arange(start=0, end=1, step=0.02).unsqueeze(dim=1)\n",
        "print(X[0:3])\n",
        "weight = 0.7\n",
        "bias = 0.3\n",
        "\n",
        "y = weight * X + bias\n",
        "print(y[0:3])"
      ]
    },
    {
      "cell_type": "code",
      "source": [
        "print(len(X))\n",
        "print(len(y))"
      ],
      "metadata": {
        "colab": {
          "base_uri": "https://localhost:8080/"
        },
        "id": "IHf9WmoPY9dL",
        "outputId": "0461e7af-bc56-49f5-9e52-03ab5b545da8"
      },
      "execution_count": 26,
      "outputs": [
        {
          "output_type": "stream",
          "name": "stdout",
          "text": [
            "50\n",
            "50\n"
          ]
        }
      ]
    },
    {
      "cell_type": "code",
      "source": [
        "train_x , test_x , train_y, test_y = train_test_split(X, y,test_size=0.2, random_state=2)"
      ],
      "metadata": {
        "id": "Cs6rUdADaRYJ"
      },
      "execution_count": 51,
      "outputs": []
    },
    {
      "cell_type": "code",
      "source": [
        "len(train_x)"
      ],
      "metadata": {
        "colab": {
          "base_uri": "https://localhost:8080/"
        },
        "id": "s6-3q1lybvLD",
        "outputId": "d864cec6-583a-4e0c-feb0-eae8fa42979f"
      },
      "execution_count": 32,
      "outputs": [
        {
          "output_type": "execute_result",
          "data": {
            "text/plain": [
              "40"
            ]
          },
          "metadata": {},
          "execution_count": 32
        }
      ]
    },
    {
      "cell_type": "code",
      "source": [
        "plt.figure(figsize=(10,7))\n",
        "plt.scatter(train_x, train_y, color=\"b\")\n",
        "plt.scatter(test_x, test_y, color=\"g\")"
      ],
      "metadata": {
        "colab": {
          "base_uri": "https://localhost:8080/",
          "height": 616
        },
        "id": "YXei6p2WcIyT",
        "outputId": "1af2f47f-8edc-4328-aa47-70d4c25b325a"
      },
      "execution_count": 52,
      "outputs": [
        {
          "output_type": "execute_result",
          "data": {
            "text/plain": [
              "<matplotlib.collections.PathCollection at 0x7935d708a890>"
            ]
          },
          "metadata": {},
          "execution_count": 52
        },
        {
          "output_type": "display_data",
          "data": {
            "text/plain": [
              "<Figure size 1000x700 with 1 Axes>"
            ],
            "image/png": "[encoded data removed]"
          },
          "metadata": {}
        }
      ]
    },
    {
      "cell_type": "code",
      "source": [
        "class LinearRegression(nn.Module):\n",
        "  def __init__(self):\n",
        "    super().__init__()\n",
        "    self.weight = nn.Parameter(torch.rand(1, requires_grad=True, dtype=torch.float))\n",
        "    self.bias = nn.Parameter(torch.rand(1, requires_grad=True, dtype=torch.float))\n",
        "  def forward(self, x:torch.Tensor) -> torch.Tensor:\n",
        "    return self.weight * x + self.bias"
      ],
      "metadata": {
        "id": "eAnLHFTSdYCp"
      },
      "execution_count": 59,
      "outputs": []
    },
    {
      "cell_type": "code",
      "source": [
        "linearRegression =  LinearRegression()\n",
        "linearRegression.forward(X)"
      ],
      "metadata": {
        "colab": {
          "base_uri": "https://localhost:8080/"
        },
        "id": "GX4u6LA6fjPR",
        "outputId": "6cc20d4b-9e8e-4e8a-ff13-aee979f7fa9c"
      },
      "execution_count": 61,
      "outputs": [
        {
          "output_type": "execute_result",
          "data": {
            "text/plain": [
              "tensor([[0.8780],\n",
              "        [0.8968],\n",
              "        [0.9156],\n",
              "        [0.9344],\n",
              "        [0.9532],\n",
              "        [0.9720],\n",
              "        [0.9908],\n",
              "        [1.0096],\n",
              "        [1.0284],\n",
              "        [1.0472],\n",
              "        [1.0660],\n",
              "        [1.0848],\n",
              "        [1.1036],\n",
              "        [1.1224],\n",
              "        [1.1412],\n",
              "        [1.1600],\n",
              "        [1.1788],\n",
              "        [1.1976],\n",
              "        [1.2164],\n",
              "        [1.2352],\n",
              "        [1.2540],\n",
              "        [1.2728],\n",
              "        [1.2916],\n",
              "        [1.3104],\n",
              "        [1.3292],\n",
              "        [1.3480],\n",
              "        [1.3668],\n",
              "        [1.3856],\n",
              "        [1.4044],\n",
              "        [1.4232],\n",
              "        [1.4420],\n",
              "        [1.4608],\n",
              "        [1.4796],\n",
              "        [1.4984],\n",
              "        [1.5172],\n",
              "        [1.5360],\n",
              "        [1.5548],\n",
              "        [1.5736],\n",
              "        [1.5924],\n",
              "        [1.6112],\n",
              "        [1.6300],\n",
              "        [1.6488],\n",
              "        [1.6676],\n",
              "        [1.6864],\n",
              "        [1.7052],\n",
              "        [1.7240],\n",
              "        [1.7428],\n",
              "        [1.7616],\n",
              "        [1.7804],\n",
              "        [1.7992]], grad_fn=<AddBackward0>)"
            ]
          },
          "metadata": {},
          "execution_count": 61
        }
      ]
    },
    {
      "cell_type": "code",
      "source": [],
      "metadata": {
        "id": "PNY0104_hjry"
      },
      "execution_count": null,
      "outputs": []
    }
  ],
  "metadata": {
    "colab": {
      "provenance": [],
      "authorship_tag": "ABX9TyNebNY4GbZ+oDtMk/lhmtiu",
      "include_colab_link": true
    },
    "kernelspec": {
      "display_name": "Python 3",
      "name": "python3"
    },
    "language_info": {
      "name": "python"
    }
  },
  "nbformat": 4,
  "nbformat_minor": 0
}