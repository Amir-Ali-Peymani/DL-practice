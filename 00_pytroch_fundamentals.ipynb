{
  "nbformat": 4,
  "nbformat_minor": 0,
  "metadata": {
    "colab": {
      "provenance": [],
      "gpuType": "T4",
      "authorship_tag": "ABX9TyOU2ERzlmYV7lsLbTCxfH1k",
      "include_colab_link": true
    },
    "kernelspec": {
      "name": "python3",
      "display_name": "Python 3"
    },
    "language_info": {
      "name": "python"
    },
    "accelerator": "GPU"
  },
  "cells": [
    {
      "cell_type": "markdown",
      "metadata": {
        "id": "view-in-github",
        "colab_type": "text"
      },
      "source": [
        "<a href=\"https://colab.research.google.com/github/Amir-Ali-Peymani/DL-practice/blob/main/00_pytroch_fundamentals.ipynb\" target=\"_parent\"><img src=\"https://colab.research.google.com/assets/colab-badge.svg\" alt=\"Open In Colab\"/></a>"
      ]
    },
    {
      "cell_type": "markdown",
      "source": [
        "##00 Pytorch Fundamentals\n",
        "\n",
        "Resource: https://www.learnpytorch.io/00_pytorch_fundamentals/"
      ],
      "metadata": {
        "id": "n09JOhPXpnud"
      }
    },
    {
      "cell_type": "code",
      "source": [
        "import torch"
      ],
      "metadata": {
        "id": "klBEiIu5qZiD"
      },
      "execution_count": 1,
      "outputs": []
    },
    {
      "cell_type": "code",
      "source": [
        "print(torch.__version__)"
      ],
      "metadata": {
        "colab": {
          "base_uri": "https://localhost:8080/"
        },
        "id": "JMacYpj2qbpC",
        "outputId": "04f5a701-0903-4c16-f2fd-997c00058e6e"
      },
      "execution_count": null,
      "outputs": [
        {
          "output_type": "stream",
          "name": "stdout",
          "text": [
            "2.3.1+cu121\n"
          ]
        }
      ]
    },
    {
      "cell_type": "code",
      "source": [
        "vector = torch.tensor([[7,8],[3,2]])"
      ],
      "metadata": {
        "id": "F5Gc0YSlswq1"
      },
      "execution_count": null,
      "outputs": []
    },
    {
      "cell_type": "code",
      "source": [
        "print(vector.ndim)"
      ],
      "metadata": {
        "colab": {
          "base_uri": "https://localhost:8080/"
        },
        "id": "ix2rmmaOswn8",
        "outputId": "51888a61-fc05-488f-e3a1-64c500ab5746"
      },
      "execution_count": null,
      "outputs": [
        {
          "output_type": "stream",
          "name": "stdout",
          "text": [
            "2\n"
          ]
        }
      ]
    },
    {
      "cell_type": "code",
      "source": [
        "print(vector.shape)"
      ],
      "metadata": {
        "colab": {
          "base_uri": "https://localhost:8080/"
        },
        "id": "quauhX_dswkQ",
        "outputId": "f915465b-3210-4d34-9a13-73f168ee312d"
      },
      "execution_count": null,
      "outputs": [
        {
          "output_type": "stream",
          "name": "stdout",
          "text": [
            "torch.Size([2, 2])\n"
          ]
        }
      ]
    },
    {
      "cell_type": "code",
      "source": [
        "Matric_3d = torch.tensor([[[1,2,4],\n",
        "                           [3,2,1],\n",
        "                           [2,3,5],\n",
        "                           [2,3,3]]])\n",
        "Matric_3d"
      ],
      "metadata": {
        "colab": {
          "base_uri": "https://localhost:8080/"
        },
        "id": "AURbodulswgo",
        "outputId": "caaae6ca-7869-4953-b214-3e4070467dad"
      },
      "execution_count": null,
      "outputs": [
        {
          "output_type": "execute_result",
          "data": {
            "text/plain": [
              "tensor([[[1, 2, 4],\n",
              "         [3, 2, 1],\n",
              "         [2, 3, 5],\n",
              "         [2, 3, 3]]])"
            ]
          },
          "metadata": {},
          "execution_count": 32
        }
      ]
    },
    {
      "cell_type": "code",
      "source": [
        "print(Matric_3d.ndim)"
      ],
      "metadata": {
        "colab": {
          "base_uri": "https://localhost:8080/"
        },
        "id": "fTCQSkmLuRvQ",
        "outputId": "68fd4972-f290-4b59-9822-35083e02c538"
      },
      "execution_count": null,
      "outputs": [
        {
          "output_type": "stream",
          "name": "stdout",
          "text": [
            "3\n"
          ]
        }
      ]
    },
    {
      "cell_type": "code",
      "source": [
        "print(Matric_3d.shape)"
      ],
      "metadata": {
        "colab": {
          "base_uri": "https://localhost:8080/"
        },
        "id": "l2qjSPjhswdS",
        "outputId": "2c9cec69-375a-42a9-c034-71fc3700e4de"
      },
      "execution_count": null,
      "outputs": [
        {
          "output_type": "stream",
          "name": "stdout",
          "text": [
            "torch.Size([1, 4, 3])\n"
          ]
        }
      ]
    },
    {
      "cell_type": "code",
      "source": [
        "Matric_3d[0]"
      ],
      "metadata": {
        "colab": {
          "base_uri": "https://localhost:8080/"
        },
        "id": "lcBgvjxzswT9",
        "outputId": "f4b932b4-c583-41ca-e4c4-43bec43812e9"
      },
      "execution_count": null,
      "outputs": [
        {
          "output_type": "execute_result",
          "data": {
            "text/plain": [
              "tensor([[1, 2, 4],\n",
              "        [3, 2, 1],\n",
              "        [2, 3, 5]])"
            ]
          },
          "metadata": {},
          "execution_count": 21
        }
      ]
    },
    {
      "cell_type": "code",
      "source": [
        "Matric_3d[0][2]"
      ],
      "metadata": {
        "colab": {
          "base_uri": "https://localhost:8080/"
        },
        "id": "GM50YfT3unvM",
        "outputId": "0ed4589f-5551-4bc1-8a96-c8a954387170"
      },
      "execution_count": null,
      "outputs": [
        {
          "output_type": "execute_result",
          "data": {
            "text/plain": [
              "tensor([2, 3, 5])"
            ]
          },
          "metadata": {},
          "execution_count": 28
        }
      ]
    },
    {
      "cell_type": "code",
      "source": [
        "Matric_3d[0][0][2]"
      ],
      "metadata": {
        "colab": {
          "base_uri": "https://localhost:8080/"
        },
        "id": "JgjP8iohuwHG",
        "outputId": "2013c8b5-6e5e-45b9-98d2-8aa8788bef58"
      },
      "execution_count": null,
      "outputs": [
        {
          "output_type": "execute_result",
          "data": {
            "text/plain": [
              "tensor(4)"
            ]
          },
          "metadata": {},
          "execution_count": 26
        }
      ]
    },
    {
      "cell_type": "code",
      "execution_count": null,
      "metadata": {
        "colab": {
          "base_uri": "https://localhost:8080/"
        },
        "id": "Anls538zoy6c",
        "outputId": "ec0dd33f-7554-4531-9405-e846b59cdb75"
      },
      "outputs": [
        {
          "output_type": "stream",
          "name": "stdout",
          "text": [
            "hello there!!\n"
          ]
        }
      ],
      "source": [
        "print(\"hello there!!\")"
      ]
    },
    {
      "cell_type": "markdown",
      "source": [
        "RANDOM TENSORS"
      ],
      "metadata": {
        "id": "tJGZCNMMwjTB"
      }
    },
    {
      "cell_type": "markdown",
      "source": [],
      "metadata": {
        "id": "_tYxbjIfwjQN"
      }
    },
    {
      "cell_type": "code",
      "source": [
        "random_tensor = torch.rand(3,3,3)"
      ],
      "metadata": {
        "id": "MZpGHOlHwiKU"
      },
      "execution_count": null,
      "outputs": []
    },
    {
      "cell_type": "code",
      "source": [
        "random_tensor"
      ],
      "metadata": {
        "colab": {
          "base_uri": "https://localhost:8080/"
        },
        "id": "5paSAaYmwiGp",
        "outputId": "f305daa3-5bc3-4fd3-eadc-8f992206c1c8"
      },
      "execution_count": null,
      "outputs": [
        {
          "output_type": "execute_result",
          "data": {
            "text/plain": [
              "tensor([[[0.8026, 0.9862, 0.8417],\n",
              "         [0.9953, 0.2018, 0.0745],\n",
              "         [0.6119, 0.2969, 0.1731]],\n",
              "\n",
              "        [[0.3929, 0.8860, 0.6352],\n",
              "         [0.0016, 0.9241, 0.1622],\n",
              "         [0.9899, 0.5982, 0.4408]],\n",
              "\n",
              "        [[0.9205, 0.5314, 0.4685],\n",
              "         [0.2878, 0.4153, 0.2703],\n",
              "         [0.0998, 0.0904, 0.0756]]])"
            ]
          },
          "metadata": {},
          "execution_count": 34
        }
      ]
    },
    {
      "cell_type": "code",
      "source": [
        "random_tensor.ndim"
      ],
      "metadata": {
        "colab": {
          "base_uri": "https://localhost:8080/"
        },
        "id": "Vf1qndbTwiDW",
        "outputId": "329b9203-dc37-420d-948a-acbb9c07427e"
      },
      "execution_count": null,
      "outputs": [
        {
          "output_type": "execute_result",
          "data": {
            "text/plain": [
              "3"
            ]
          },
          "metadata": {},
          "execution_count": 35
        }
      ]
    },
    {
      "cell_type": "code",
      "source": [
        "random_tensor.shape"
      ],
      "metadata": {
        "colab": {
          "base_uri": "https://localhost:8080/"
        },
        "id": "CjBwcrrxwh_s",
        "outputId": "4698a38e-d90d-4cfe-af4f-09d2e1341c1a"
      },
      "execution_count": null,
      "outputs": [
        {
          "output_type": "execute_result",
          "data": {
            "text/plain": [
              "torch.Size([3, 3, 3])"
            ]
          },
          "metadata": {},
          "execution_count": 36
        }
      ]
    },
    {
      "cell_type": "code",
      "source": [
        "a = torch.rand(size=(3,4))\n",
        "a"
      ],
      "metadata": {
        "colab": {
          "base_uri": "https://localhost:8080/"
        },
        "id": "IIkV8qiEwh8V",
        "outputId": "46fc2388-a28e-42c8-97bc-4f386550f472"
      },
      "execution_count": null,
      "outputs": [
        {
          "output_type": "execute_result",
          "data": {
            "text/plain": [
              "tensor([[0.1410, 0.0341, 0.9549, 0.5745],\n",
              "        [0.6216, 0.7300, 0.8913, 0.9727],\n",
              "        [0.1888, 0.6018, 0.0036, 0.8143]])"
            ]
          },
          "metadata": {},
          "execution_count": 49
        }
      ]
    },
    {
      "cell_type": "code",
      "source": [
        "b = torch.rand(size=(3,4))\n",
        "b"
      ],
      "metadata": {
        "colab": {
          "base_uri": "https://localhost:8080/"
        },
        "id": "NNNov4aiwh4x",
        "outputId": "1fc6a6c6-6ee9-475f-a512-12b52adf3487"
      },
      "execution_count": null,
      "outputs": [
        {
          "output_type": "execute_result",
          "data": {
            "text/plain": [
              "tensor([[0.3389, 0.2451, 0.8248, 0.8687],\n",
              "        [0.5372, 0.7097, 0.7780, 0.8151],\n",
              "        [0.9488, 0.3921, 0.9023, 0.4215]])"
            ]
          },
          "metadata": {},
          "execution_count": 50
        }
      ]
    },
    {
      "cell_type": "code",
      "source": [
        "c = a*b\n",
        "c"
      ],
      "metadata": {
        "colab": {
          "base_uri": "https://localhost:8080/"
        },
        "id": "AYoZyNUrwh1O",
        "outputId": "1f7bdfa9-02b6-4538-a373-497a824a6adf"
      },
      "execution_count": null,
      "outputs": [
        {
          "output_type": "execute_result",
          "data": {
            "text/plain": [
              "tensor([[0.4117, 0.1505, 0.0147, 0.0435],\n",
              "        [0.2936, 0.1652, 0.2691, 0.0990],\n",
              "        [0.0479, 0.1160, 0.0029, 0.1621]])"
            ]
          },
          "metadata": {},
          "execution_count": 48
        }
      ]
    },
    {
      "cell_type": "code",
      "source": [
        "torch_range = torch.range(0,2)\n",
        "torch_range"
      ],
      "metadata": {
        "colab": {
          "base_uri": "https://localhost:8080/"
        },
        "id": "emDrkAi5whqk",
        "outputId": "3448c8c7-446b-4a07-a911-a3fed823a77f"
      },
      "execution_count": null,
      "outputs": [
        {
          "output_type": "stream",
          "name": "stderr",
          "text": [
            "<ipython-input-52-1b8dd395ff4e>:1: UserWarning: torch.range is deprecated and will be removed in a future release because its behavior is inconsistent with Python's range builtin. Instead, use torch.arange, which produces values in [start, end).\n",
            "  torch_range = torch.range(0,2)\n"
          ]
        },
        {
          "output_type": "execute_result",
          "data": {
            "text/plain": [
              "tensor([0., 1., 2.])"
            ]
          },
          "metadata": {},
          "execution_count": 52
        }
      ]
    },
    {
      "cell_type": "code",
      "source": [
        "numbers = torch.range(start=1, end=10, step=1)\n",
        "numbers"
      ],
      "metadata": {
        "colab": {
          "base_uri": "https://localhost:8080/"
        },
        "id": "P3ANJprYAl5h",
        "outputId": "ae6e4f2e-8fb1-4b36-ee87-b72d1e04e48a"
      },
      "execution_count": null,
      "outputs": [
        {
          "output_type": "stream",
          "name": "stderr",
          "text": [
            "<ipython-input-54-56f626e8f6f4>:1: UserWarning: torch.range is deprecated and will be removed in a future release because its behavior is inconsistent with Python's range builtin. Instead, use torch.arange, which produces values in [start, end).\n",
            "  numbers = torch.range(start=1, end=10, step=1)\n"
          ]
        },
        {
          "output_type": "execute_result",
          "data": {
            "text/plain": [
              "tensor([ 1.,  2.,  3.,  4.,  5.,  6.,  7.,  8.,  9., 10.])"
            ]
          },
          "metadata": {},
          "execution_count": 54
        }
      ]
    },
    {
      "cell_type": "code",
      "source": [
        "ten_zeros = torch.zeros_like(input=numbers)\n",
        "ten_zeros"
      ],
      "metadata": {
        "colab": {
          "base_uri": "https://localhost:8080/"
        },
        "id": "-SjEZthgAl2C",
        "outputId": "bd963606-09e9-45c9-d4fc-1727344bd9fa"
      },
      "execution_count": null,
      "outputs": [
        {
          "output_type": "execute_result",
          "data": {
            "text/plain": [
              "tensor([0., 0., 0., 0., 0., 0., 0., 0., 0., 0.])"
            ]
          },
          "metadata": {},
          "execution_count": 56
        }
      ]
    },
    {
      "cell_type": "code",
      "source": [
        "numbers = torch.rand(size=(2,2))\n",
        "numbers"
      ],
      "metadata": {
        "id": "aWHHEEX8Alys",
        "colab": {
          "base_uri": "https://localhost:8080/"
        },
        "outputId": "c89558aa-7223-45eb-ef98-4bf657d7fc59"
      },
      "execution_count": 2,
      "outputs": [
        {
          "output_type": "execute_result",
          "data": {
            "text/plain": [
              "tensor([[0.6920, 0.6575],\n",
              "        [0.7767, 0.7257]])"
            ]
          },
          "metadata": {},
          "execution_count": 2
        }
      ]
    },
    {
      "cell_type": "code",
      "source": [
        "numbers.device"
      ],
      "metadata": {
        "id": "LqhlOBxXAlux",
        "colab": {
          "base_uri": "https://localhost:8080/"
        },
        "outputId": "1f0ed5a3-58f1-4759-df68-754f60cee6e7"
      },
      "execution_count": 4,
      "outputs": [
        {
          "output_type": "execute_result",
          "data": {
            "text/plain": [
              "device(type='cpu')"
            ]
          },
          "metadata": {},
          "execution_count": 4
        }
      ]
    },
    {
      "cell_type": "code",
      "source": [
        "numbers+100"
      ],
      "metadata": {
        "id": "IQG8H7bqAlni",
        "colab": {
          "base_uri": "https://localhost:8080/"
        },
        "outputId": "f6561b1a-91ee-4dd7-c5a6-00ecc98eb252"
      },
      "execution_count": 5,
      "outputs": [
        {
          "output_type": "execute_result",
          "data": {
            "text/plain": [
              "tensor([[100.6920, 100.6575],\n",
              "        [100.7766, 100.7257]])"
            ]
          },
          "metadata": {},
          "execution_count": 5
        }
      ]
    },
    {
      "cell_type": "code",
      "source": [
        "numbers*3"
      ],
      "metadata": {
        "colab": {
          "base_uri": "https://localhost:8080/"
        },
        "id": "f3-S5vTMKDJL",
        "outputId": "38f6f446-e624-4e84-a89e-84e4122efccb"
      },
      "execution_count": 6,
      "outputs": [
        {
          "output_type": "execute_result",
          "data": {
            "text/plain": [
              "tensor([[2.0759, 1.9726],\n",
              "        [2.3300, 2.1771]])"
            ]
          },
          "metadata": {},
          "execution_count": 6
        }
      ]
    },
    {
      "cell_type": "code",
      "source": [
        "numbers /2"
      ],
      "metadata": {
        "colab": {
          "base_uri": "https://localhost:8080/"
        },
        "id": "zaPi78yAKDFn",
        "outputId": "505a70ce-94c9-4c6c-e4cc-d7b2b56d1ea1"
      },
      "execution_count": 7,
      "outputs": [
        {
          "output_type": "execute_result",
          "data": {
            "text/plain": [
              "tensor([[0.3460, 0.3288],\n",
              "        [0.3883, 0.3629]])"
            ]
          },
          "metadata": {},
          "execution_count": 7
        }
      ]
    },
    {
      "cell_type": "code",
      "source": [
        "numbers - 2"
      ],
      "metadata": {
        "colab": {
          "base_uri": "https://localhost:8080/"
        },
        "id": "vrWhwXQeKDCr",
        "outputId": "4068a5b7-d16a-4e20-b585-5790e6f3f5d6"
      },
      "execution_count": 8,
      "outputs": [
        {
          "output_type": "execute_result",
          "data": {
            "text/plain": [
              "tensor([[-1.3080, -1.3425],\n",
              "        [-1.2233, -1.2743]])"
            ]
          },
          "metadata": {},
          "execution_count": 8
        }
      ]
    },
    {
      "cell_type": "code",
      "source": [
        "torch.mul(numbers, 2)"
      ],
      "metadata": {
        "colab": {
          "base_uri": "https://localhost:8080/"
        },
        "id": "cPC21g7QKC_r",
        "outputId": "30bad64c-34c2-4ec9-8512-8c8b3c9efb11"
      },
      "execution_count": 9,
      "outputs": [
        {
          "output_type": "execute_result",
          "data": {
            "text/plain": [
              "tensor([[1.3840, 1.3150],\n",
              "        [1.5533, 1.4514]])"
            ]
          },
          "metadata": {},
          "execution_count": 9
        }
      ]
    },
    {
      "cell_type": "code",
      "source": [
        "torch.add(numbers, 1)"
      ],
      "metadata": {
        "colab": {
          "base_uri": "https://localhost:8080/"
        },
        "id": "SDcJIixrKC8Q",
        "outputId": "4636454f-7b44-4d6f-8787-ab04cf6432db"
      },
      "execution_count": 10,
      "outputs": [
        {
          "output_type": "execute_result",
          "data": {
            "text/plain": [
              "tensor([[1.6920, 1.6575],\n",
              "        [1.7767, 1.7257]])"
            ]
          },
          "metadata": {},
          "execution_count": 10
        }
      ]
    },
    {
      "cell_type": "code",
      "source": [
        "matrix_1 = torch.rand(size=(3,4))\n",
        "matrix_2 = torch.rand(size=(4,3))\n",
        "torch.matmul(matrix_1, matrix_2)"
      ],
      "metadata": {
        "colab": {
          "base_uri": "https://localhost:8080/"
        },
        "id": "4HW9MvAkKC5t",
        "outputId": "dff584c4-c91a-4450-cc9c-d8b1786fe4db"
      },
      "execution_count": 15,
      "outputs": [
        {
          "output_type": "execute_result",
          "data": {
            "text/plain": [
              "tensor([[0.6699, 1.3486, 1.2772],\n",
              "        [0.6293, 0.9322, 0.5019],\n",
              "        [0.2718, 0.4602, 1.1541]])"
            ]
          },
          "metadata": {},
          "execution_count": 15
        }
      ]
    },
    {
      "cell_type": "code",
      "source": [
        "torch.mul(matrix_1, 1)"
      ],
      "metadata": {
        "colab": {
          "base_uri": "https://localhost:8080/"
        },
        "id": "1IoF_4c3KC29",
        "outputId": "d7774eec-aeed-43ca-f85c-b40ca4e49ca4"
      },
      "execution_count": 17,
      "outputs": [
        {
          "output_type": "execute_result",
          "data": {
            "text/plain": [
              "tensor([[0.7433, 0.8744, 0.2693, 0.6972],\n",
              "        [0.1681, 0.8006, 0.7533, 0.0769],\n",
              "        [0.5292, 0.0118, 0.1171, 0.8658]])"
            ]
          },
          "metadata": {},
          "execution_count": 17
        }
      ]
    },
    {
      "cell_type": "code",
      "source": [
        "matrix_1 @ matrix_2"
      ],
      "metadata": {
        "colab": {
          "base_uri": "https://localhost:8080/"
        },
        "id": "TG8ZKChCKC0W",
        "outputId": "d2850148-e879-44c2-f2a8-09a428abf7e7"
      },
      "execution_count": 18,
      "outputs": [
        {
          "output_type": "execute_result",
          "data": {
            "text/plain": [
              "tensor([[0.6699, 1.3486, 1.2772],\n",
              "        [0.6293, 0.9322, 0.5019],\n",
              "        [0.2718, 0.4602, 1.1541]])"
            ]
          },
          "metadata": {},
          "execution_count": 18
        }
      ]
    },
    {
      "cell_type": "code",
      "source": [
        "torch.mm(matrix_1, matrix_2)"
      ],
      "metadata": {
        "colab": {
          "base_uri": "https://localhost:8080/"
        },
        "id": "978ujXpjKCxO",
        "outputId": "af6e369a-02a2-4879-d618-675409cf0364"
      },
      "execution_count": 19,
      "outputs": [
        {
          "output_type": "execute_result",
          "data": {
            "text/plain": [
              "tensor([[0.6699, 1.3486, 1.2772],\n",
              "        [0.6293, 0.9322, 0.5019],\n",
              "        [0.2718, 0.4602, 1.1541]])"
            ]
          },
          "metadata": {},
          "execution_count": 19
        }
      ]
    },
    {
      "cell_type": "code",
      "source": [
        "matrix_one = torch.rand(3, 4)\n",
        "matrix_two = torch.rand(3, 4)"
      ],
      "metadata": {
        "id": "n2YVkZZEKCuw"
      },
      "execution_count": 20,
      "outputs": []
    },
    {
      "cell_type": "code",
      "source": [
        "torch.mm(matrix_one, matrix_two.T)"
      ],
      "metadata": {
        "colab": {
          "base_uri": "https://localhost:8080/"
        },
        "id": "Pp5S9LovKCr6",
        "outputId": "a4ae57c8-1e14-47e0-f3de-0be74788bbfb"
      },
      "execution_count": 22,
      "outputs": [
        {
          "output_type": "execute_result",
          "data": {
            "text/plain": [
              "tensor([[1.8999, 1.0066, 0.9852],\n",
              "        [1.7458, 0.6412, 1.3950],\n",
              "        [2.1829, 1.3201, 1.3509]])"
            ]
          },
          "metadata": {},
          "execution_count": 22
        }
      ]
    },
    {
      "cell_type": "code",
      "source": [
        "torch.min(matrix_one)"
      ],
      "metadata": {
        "colab": {
          "base_uri": "https://localhost:8080/"
        },
        "id": "HkMxYz2fKCpF",
        "outputId": "b5fc714c-c8b8-4218-9b48-ad4c31fdb263"
      },
      "execution_count": 23,
      "outputs": [
        {
          "output_type": "execute_result",
          "data": {
            "text/plain": [
              "tensor(0.0007)"
            ]
          },
          "metadata": {},
          "execution_count": 23
        }
      ]
    },
    {
      "cell_type": "code",
      "source": [
        "torch.max(matrix_one)"
      ],
      "metadata": {
        "colab": {
          "base_uri": "https://localhost:8080/"
        },
        "id": "c-OYjvdXKCmE",
        "outputId": "2efb5873-5d71-4ea6-ffc4-9476bc0f103d"
      },
      "execution_count": 24,
      "outputs": [
        {
          "output_type": "execute_result",
          "data": {
            "text/plain": [
              "tensor(0.9990)"
            ]
          },
          "metadata": {},
          "execution_count": 24
        }
      ]
    },
    {
      "cell_type": "code",
      "source": [
        "!nvidia-smi"
      ],
      "metadata": {
        "colab": {
          "base_uri": "https://localhost:8080/"
        },
        "id": "7EMXd0lQpNt9",
        "outputId": "3dbcfd77-766f-4d4e-b983-0ff3bbf698be"
      },
      "execution_count": null,
      "outputs": [
        {
          "output_type": "stream",
          "name": "stdout",
          "text": [
            "Thu Aug 15 15:26:04 2024       \n",
            "+---------------------------------------------------------------------------------------+\n",
            "| NVIDIA-SMI 535.104.05             Driver Version: 535.104.05   CUDA Version: 12.2     |\n",
            "|-----------------------------------------+----------------------+----------------------+\n",
            "| GPU  Name                 Persistence-M | Bus-Id        Disp.A | Volatile Uncorr. ECC |\n",
            "| Fan  Temp   Perf          Pwr:Usage/Cap |         Memory-Usage | GPU-Util  Compute M. |\n",
            "|                                         |                      |               MIG M. |\n",
            "|=========================================+======================+======================|\n",
            "|   0  Tesla T4                       Off | 00000000:00:04.0 Off |                    0 |\n",
            "| N/A   62C    P8              12W /  70W |      0MiB / 15360MiB |      0%      Default |\n",
            "|                                         |                      |                  N/A |\n",
            "+-----------------------------------------+----------------------+----------------------+\n",
            "                                                                                         \n",
            "+---------------------------------------------------------------------------------------+\n",
            "| Processes:                                                                            |\n",
            "|  GPU   GI   CI        PID   Type   Process name                            GPU Memory |\n",
            "|        ID   ID                                                             Usage      |\n",
            "|=======================================================================================|\n",
            "|  No running processes found                                                           |\n",
            "+---------------------------------------------------------------------------------------+\n"
          ]
        }
      ]
    },
    {
      "cell_type": "code",
      "source": [],
      "metadata": {
        "id": "5oW9FW-qpVii"
      },
      "execution_count": null,
      "outputs": []
    }
  ]
}