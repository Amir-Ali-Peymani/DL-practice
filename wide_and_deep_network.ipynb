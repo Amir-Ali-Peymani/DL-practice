{
  "nbformat": 4,
  "nbformat_minor": 0,
  "metadata": {
    "colab": {
      "provenance": [],
      "authorship_tag": "ABX9TyM7BAgXJONWPzdaLV8e1QCq",
      "include_colab_link": true
    },
    "kernelspec": {
      "name": "python3",
      "display_name": "Python 3"
    },
    "language_info": {
      "name": "python"
    }
  },
  "cells": [
    {
      "cell_type": "markdown",
      "metadata": {
        "id": "view-in-github",
        "colab_type": "text"
      },
      "source": [
        "<a href=\"https://colab.research.google.com/github/Amir-Ali-Peymani/DL-practice/blob/main/wide_and_deep_network.ipynb\" target=\"_parent\"><img src=\"https://colab.research.google.com/assets/colab-badge.svg\" alt=\"Open In Colab\"/></a>"
      ]
    },
    {
      "cell_type": "code",
      "execution_count": 2,
      "metadata": {
        "id": "VS0YoCVGfESF"
      },
      "outputs": [],
      "source": [
        "import tensorflow\n",
        "from tensorflow import keras\n",
        "import numpy as np\n",
        "import pandas as pd\n",
        "from sklearn.datasets import fetch_california_housing\n",
        "from sklearn.model_selection import train_test_split\n",
        "from sklearn.preprocessing import StandardScaler"
      ]
    },
    {
      "cell_type": "code",
      "source": [
        "houses = fetch_california_housing()"
      ],
      "metadata": {
        "id": "J27S95fhfU1E"
      },
      "execution_count": 3,
      "outputs": []
    },
    {
      "cell_type": "code",
      "source": [
        "houses"
      ],
      "metadata": {
        "colab": {
          "base_uri": "https://localhost:8080/"
        },
        "id": "KE8f2umkiLxW",
        "outputId": "806aa840-a3ef-4112-cce7-1263d72f90a9"
      },
      "execution_count": 25,
      "outputs": [
        {
          "output_type": "execute_result",
          "data": {
            "text/plain": [
              "{'data': array([[   8.3252    ,   41.        ,    6.98412698, ...,    2.55555556,\n",
              "           37.88      , -122.23      ],\n",
              "        [   8.3014    ,   21.        ,    6.23813708, ...,    2.10984183,\n",
              "           37.86      , -122.22      ],\n",
              "        [   7.2574    ,   52.        ,    8.28813559, ...,    2.80225989,\n",
              "           37.85      , -122.24      ],\n",
              "        ...,\n",
              "        [   1.7       ,   17.        ,    5.20554273, ...,    2.3256351 ,\n",
              "           39.43      , -121.22      ],\n",
              "        [   1.8672    ,   18.        ,    5.32951289, ...,    2.12320917,\n",
              "           39.43      , -121.32      ],\n",
              "        [   2.3886    ,   16.        ,    5.25471698, ...,    2.61698113,\n",
              "           39.37      , -121.24      ]]),\n",
              " 'target': array([4.526, 3.585, 3.521, ..., 0.923, 0.847, 0.894]),\n",
              " 'frame': None,\n",
              " 'target_names': ['MedHouseVal'],\n",
              " 'feature_names': ['MedInc',\n",
              "  'HouseAge',\n",
              "  'AveRooms',\n",
              "  'AveBedrms',\n",
              "  'Population',\n",
              "  'AveOccup',\n",
              "  'Latitude',\n",
              "  'Longitude'],\n",
              " 'DESCR': '.. _california_housing_dataset:\\n\\nCalifornia Housing dataset\\n--------------------------\\n\\n**Data Set Characteristics:**\\n\\n    :Number of Instances: 20640\\n\\n    :Number of Attributes: 8 numeric, predictive attributes and the target\\n\\n    :Attribute Information:\\n        - MedInc        median income in block group\\n        - HouseAge      median house age in block group\\n        - AveRooms      average number of rooms per household\\n        - AveBedrms     average number of bedrooms per household\\n        - Population    block group population\\n        - AveOccup      average number of household members\\n        - Latitude      block group latitude\\n        - Longitude     block group longitude\\n\\n    :Missing Attribute Values: None\\n\\nThis dataset was obtained from the StatLib repository.\\nhttps://www.dcc.fc.up.pt/~ltorgo/Regression/cal_housing.html\\n\\nThe target variable is the median house value for California districts,\\nexpressed in hundreds of thousands of dollars ($100,000).\\n\\nThis dataset was derived from the 1990 U.S. census, using one row per census\\nblock group. A block group is the smallest geographical unit for which the U.S.\\nCensus Bureau publishes sample data (a block group typically has a population\\nof 600 to 3,000 people).\\n\\nA household is a group of people residing within a home. Since the average\\nnumber of rooms and bedrooms in this dataset are provided per household, these\\ncolumns may take surprisingly large values for block groups with few households\\nand many empty houses, such as vacation resorts.\\n\\nIt can be downloaded/loaded using the\\n:func:`sklearn.datasets.fetch_california_housing` function.\\n\\n.. topic:: References\\n\\n    - Pace, R. Kelley and Ronald Barry, Sparse Spatial Autoregressions,\\n      Statistics and Probability Letters, 33 (1997) 291-297\\n'}"
            ]
          },
          "metadata": {},
          "execution_count": 25
        }
      ]
    },
    {
      "cell_type": "code",
      "source": [
        "x = houses[\"data\"]\n",
        "y = houses[\"target\"]"
      ],
      "metadata": {
        "id": "Nvd2YvQ9jRXZ"
      },
      "execution_count": 4,
      "outputs": []
    },
    {
      "cell_type": "code",
      "source": [
        "x[0:2]"
      ],
      "metadata": {
        "colab": {
          "base_uri": "https://localhost:8080/"
        },
        "id": "MePiIDN1mN5k",
        "outputId": "22a34dec-d646-4357-f87b-211331361b25"
      },
      "execution_count": 32,
      "outputs": [
        {
          "output_type": "execute_result",
          "data": {
            "text/plain": [
              "array([[ 8.32520000e+00,  4.10000000e+01,  6.98412698e+00,\n",
              "         1.02380952e+00,  3.22000000e+02,  2.55555556e+00,\n",
              "         3.78800000e+01, -1.22230000e+02],\n",
              "       [ 8.30140000e+00,  2.10000000e+01,  6.23813708e+00,\n",
              "         9.71880492e-01,  2.40100000e+03,  2.10984183e+00,\n",
              "         3.78600000e+01, -1.22220000e+02]])"
            ]
          },
          "metadata": {},
          "execution_count": 32
        }
      ]
    },
    {
      "cell_type": "code",
      "source": [
        "train_x0 , test_x, train_y0, test_y = train_test_split(x, y , test_size= 0.2 , random_state=1)"
      ],
      "metadata": {
        "id": "uA82yD2ch8ZZ"
      },
      "execution_count": 5,
      "outputs": []
    },
    {
      "cell_type": "code",
      "source": [
        "train_x1, validation_x, train_y1, validation_y = train_test_split(train_x0, train_y0)"
      ],
      "metadata": {
        "id": "l5bB2jkTiLEI"
      },
      "execution_count": 6,
      "outputs": []
    },
    {
      "cell_type": "code",
      "source": [],
      "metadata": {
        "id": "CSqLDQG-wBet"
      },
      "execution_count": 9,
      "outputs": []
    },
    {
      "cell_type": "code",
      "source": [
        "scaler= StandardScaler()\n",
        "test_x = scaler.fit_transform(test_x)\n",
        "train_x1 = scaler.fit_transform(train_x1)\n",
        "validation_x = scaler.fit_transform(validation_x)"
      ],
      "metadata": {
        "id": "iyoPK7i-lQmH"
      },
      "execution_count": 13,
      "outputs": []
    },
    {
      "cell_type": "code",
      "source": [
        "train_x1[0:2]"
      ],
      "metadata": {
        "colab": {
          "base_uri": "https://localhost:8080/"
        },
        "id": "c2kazIoTmXhP",
        "outputId": "18556a8b-00ea-4d71-cd18-974e4c5db7b6"
      },
      "execution_count": 11,
      "outputs": [
        {
          "output_type": "execute_result",
          "data": {
            "text/plain": [
              "array([[ 0.38014549,  1.05069034, -0.05497043,  0.05785442, -0.26688386,\n",
              "        -0.70041614, -0.74623598,  0.56430692],\n",
              "       [ 0.14296278,  0.25594381, -0.39301028, -0.21119519, -0.42888873,\n",
              "         2.83028703, -0.88698805,  0.8511483 ]])"
            ]
          },
          "metadata": {},
          "execution_count": 11
        }
      ]
    },
    {
      "cell_type": "code",
      "source": [
        "model = keras.models.Sequential()\n",
        "model.add(keras.layers.Dense(100, activation=\"relu\"))\n",
        "model.add(keras.layers.Dense(50, activation=\"relu\"))\n",
        "model.add(keras.layers.Dense(1))"
      ],
      "metadata": {
        "id": "o3cPKGJ5j4pf"
      },
      "execution_count": 14,
      "outputs": []
    },
    {
      "cell_type": "code",
      "source": [
        "model.compile(loss= \"mean_squared_error\",\n",
        "              optimizer = \"sgd\",\n",
        "              metrics = [\"mean_absolute_error\"])"
      ],
      "metadata": {
        "id": "9Cx9cYbdkOAg"
      },
      "execution_count": 15,
      "outputs": []
    },
    {
      "cell_type": "code",
      "source": [
        "model.fit(train_x1, train_y1, epochs=60, validation_data=[validation_x, validation_y])"
      ],
      "metadata": {
        "colab": {
          "base_uri": "https://localhost:8080/"
        },
        "id": "n290ZT05dW5W",
        "outputId": "2f63fa60-f9fe-46ca-88b3-8b01206bda84"
      },
      "execution_count": 16,
      "outputs": [
        {
          "output_type": "stream",
          "name": "stdout",
          "text": [
            "Epoch 1/60\n",
            "\u001b[1m387/387\u001b[0m \u001b[32m━━━━━━━━━━━━━━━━━━━━\u001b[0m\u001b[37m\u001b[0m \u001b[1m2s\u001b[0m 2ms/step - loss: 1.2947 - mean_absolute_error: 0.7603 - val_loss: 0.5203 - val_mean_absolute_error: 0.5294\n",
            "Epoch 2/60\n",
            "\u001b[1m387/387\u001b[0m \u001b[32m━━━━━━━━━━━━━━━━━━━━\u001b[0m\u001b[37m\u001b[0m \u001b[1m1s\u001b[0m 2ms/step - loss: 0.5216 - mean_absolute_error: 0.5096 - val_loss: 0.4914 - val_mean_absolute_error: 0.5205\n",
            "Epoch 3/60\n",
            "\u001b[1m387/387\u001b[0m \u001b[32m━━━━━━━━━━━━━━━━━━━━\u001b[0m\u001b[37m\u001b[0m \u001b[1m1s\u001b[0m 2ms/step - loss: 0.4479 - mean_absolute_error: 0.4730 - val_loss: 0.4519 - val_mean_absolute_error: 0.4992\n",
            "Epoch 4/60\n",
            "\u001b[1m387/387\u001b[0m \u001b[32m━━━━━━━━━━━━━━━━━━━━\u001b[0m\u001b[37m\u001b[0m \u001b[1m1s\u001b[0m 2ms/step - loss: 0.4059 - mean_absolute_error: 0.4537 - val_loss: 0.5778 - val_mean_absolute_error: 0.5707\n",
            "Epoch 5/60\n",
            "\u001b[1m387/387\u001b[0m \u001b[32m━━━━━━━━━━━━━━━━━━━━\u001b[0m\u001b[37m\u001b[0m \u001b[1m1s\u001b[0m 2ms/step - loss: 0.4060 - mean_absolute_error: 0.4527 - val_loss: 0.8956 - val_mean_absolute_error: 0.7044\n",
            "Epoch 6/60\n",
            "\u001b[1m387/387\u001b[0m \u001b[32m━━━━━━━━━━━━━━━━━━━━\u001b[0m\u001b[37m\u001b[0m \u001b[1m1s\u001b[0m 2ms/step - loss: 0.3846 - mean_absolute_error: 0.4426 - val_loss: 1.0790 - val_mean_absolute_error: 0.7680\n",
            "Epoch 7/60\n",
            "\u001b[1m387/387\u001b[0m \u001b[32m━━━━━━━━━━━━━━━━━━━━\u001b[0m\u001b[37m\u001b[0m \u001b[1m1s\u001b[0m 2ms/step - loss: 0.3746 - mean_absolute_error: 0.4325 - val_loss: 1.3780 - val_mean_absolute_error: 0.8579\n",
            "Epoch 8/60\n",
            "\u001b[1m387/387\u001b[0m \u001b[32m━━━━━━━━━━━━━━━━━━━━\u001b[0m\u001b[37m\u001b[0m \u001b[1m1s\u001b[0m 3ms/step - loss: 0.3666 - mean_absolute_error: 0.4308 - val_loss: 1.6714 - val_mean_absolute_error: 0.9431\n",
            "Epoch 9/60\n",
            "\u001b[1m387/387\u001b[0m \u001b[32m━━━━━━━━━━━━━━━━━━━━\u001b[0m\u001b[37m\u001b[0m \u001b[1m2s\u001b[0m 2ms/step - loss: 0.3684 - mean_absolute_error: 0.4283 - val_loss: 2.3569 - val_mean_absolute_error: 1.1186\n",
            "Epoch 10/60\n",
            "\u001b[1m387/387\u001b[0m \u001b[32m━━━━━━━━━━━━━━━━━━━━\u001b[0m\u001b[37m\u001b[0m \u001b[1m1s\u001b[0m 3ms/step - loss: 0.3555 - mean_absolute_error: 0.4203 - val_loss: 2.5405 - val_mean_absolute_error: 1.1393\n",
            "Epoch 11/60\n",
            "\u001b[1m387/387\u001b[0m \u001b[32m━━━━━━━━━━━━━━━━━━━━\u001b[0m\u001b[37m\u001b[0m \u001b[1m1s\u001b[0m 2ms/step - loss: 0.3396 - mean_absolute_error: 0.4124 - val_loss: 3.3382 - val_mean_absolute_error: 1.3074\n",
            "Epoch 12/60\n",
            "\u001b[1m387/387\u001b[0m \u001b[32m━━━━━━━━━━━━━━━━━━━━\u001b[0m\u001b[37m\u001b[0m \u001b[1m1s\u001b[0m 2ms/step - loss: 0.3251 - mean_absolute_error: 0.4032 - val_loss: 3.8086 - val_mean_absolute_error: 1.3861\n",
            "Epoch 13/60\n",
            "\u001b[1m387/387\u001b[0m \u001b[32m━━━━━━━━━━━━━━━━━━━━\u001b[0m\u001b[37m\u001b[0m \u001b[1m1s\u001b[0m 2ms/step - loss: 0.3326 - mean_absolute_error: 0.4076 - val_loss: 4.4327 - val_mean_absolute_error: 1.4795\n",
            "Epoch 14/60\n",
            "\u001b[1m387/387\u001b[0m \u001b[32m━━━━━━━━━━━━━━━━━━━━\u001b[0m\u001b[37m\u001b[0m \u001b[1m1s\u001b[0m 2ms/step - loss: 0.3321 - mean_absolute_error: 0.4041 - val_loss: 5.5361 - val_mean_absolute_error: 1.6584\n",
            "Epoch 15/60\n",
            "\u001b[1m387/387\u001b[0m \u001b[32m━━━━━━━━━━━━━━━━━━━━\u001b[0m\u001b[37m\u001b[0m \u001b[1m1s\u001b[0m 2ms/step - loss: 0.3288 - mean_absolute_error: 0.4009 - val_loss: 5.9063 - val_mean_absolute_error: 1.6637\n",
            "Epoch 16/60\n",
            "\u001b[1m387/387\u001b[0m \u001b[32m━━━━━━━━━━━━━━━━━━━━\u001b[0m\u001b[37m\u001b[0m \u001b[1m1s\u001b[0m 2ms/step - loss: 0.3159 - mean_absolute_error: 0.3948 - val_loss: 6.8534 - val_mean_absolute_error: 1.8152\n",
            "Epoch 17/60\n",
            "\u001b[1m387/387\u001b[0m \u001b[32m━━━━━━━━━━━━━━━━━━━━\u001b[0m\u001b[37m\u001b[0m \u001b[1m2s\u001b[0m 3ms/step - loss: 0.3192 - mean_absolute_error: 0.3919 - val_loss: 7.3849 - val_mean_absolute_error: 1.8521\n",
            "Epoch 18/60\n",
            "\u001b[1m387/387\u001b[0m \u001b[32m━━━━━━━━━━━━━━━━━━━━\u001b[0m\u001b[37m\u001b[0m \u001b[1m2s\u001b[0m 2ms/step - loss: 0.3021 - mean_absolute_error: 0.3850 - val_loss: 8.3859 - val_mean_absolute_error: 1.9867\n",
            "Epoch 19/60\n",
            "\u001b[1m387/387\u001b[0m \u001b[32m━━━━━━━━━━━━━━━━━━━━\u001b[0m\u001b[37m\u001b[0m \u001b[1m1s\u001b[0m 2ms/step - loss: 0.3320 - mean_absolute_error: 0.3946 - val_loss: 8.2667 - val_mean_absolute_error: 1.9344\n",
            "Epoch 20/60\n",
            "\u001b[1m387/387\u001b[0m \u001b[32m━━━━━━━━━━━━━━━━━━━━\u001b[0m\u001b[37m\u001b[0m \u001b[1m1s\u001b[0m 2ms/step - loss: 0.3008 - mean_absolute_error: 0.3883 - val_loss: 9.4033 - val_mean_absolute_error: 2.0629\n",
            "Epoch 21/60\n",
            "\u001b[1m387/387\u001b[0m \u001b[32m━━━━━━━━━━━━━━━━━━━━\u001b[0m\u001b[37m\u001b[0m \u001b[1m1s\u001b[0m 2ms/step - loss: 0.3429 - mean_absolute_error: 0.3896 - val_loss: 10.4663 - val_mean_absolute_error: 2.1595\n",
            "Epoch 22/60\n",
            "\u001b[1m387/387\u001b[0m \u001b[32m━━━━━━━━━━━━━━━━━━━━\u001b[0m\u001b[37m\u001b[0m \u001b[1m1s\u001b[0m 2ms/step - loss: 0.3151 - mean_absolute_error: 0.3891 - val_loss: 10.7687 - val_mean_absolute_error: 2.1816\n",
            "Epoch 23/60\n",
            "\u001b[1m387/387\u001b[0m \u001b[32m━━━━━━━━━━━━━━━━━━━━\u001b[0m\u001b[37m\u001b[0m \u001b[1m1s\u001b[0m 3ms/step - loss: 0.3030 - mean_absolute_error: 0.3846 - val_loss: 10.7183 - val_mean_absolute_error: 2.1575\n",
            "Epoch 24/60\n",
            "\u001b[1m387/387\u001b[0m \u001b[32m━━━━━━━━━━━━━━━━━━━━\u001b[0m\u001b[37m\u001b[0m \u001b[1m1s\u001b[0m 2ms/step - loss: 0.3065 - mean_absolute_error: 0.3823 - val_loss: 11.7663 - val_mean_absolute_error: 2.2447\n",
            "Epoch 25/60\n",
            "\u001b[1m387/387\u001b[0m \u001b[32m━━━━━━━━━━━━━━━━━━━━\u001b[0m\u001b[37m\u001b[0m \u001b[1m1s\u001b[0m 3ms/step - loss: 0.2958 - mean_absolute_error: 0.3770 - val_loss: 13.4196 - val_mean_absolute_error: 2.3928\n",
            "Epoch 26/60\n",
            "\u001b[1m387/387\u001b[0m \u001b[32m━━━━━━━━━━━━━━━━━━━━\u001b[0m\u001b[37m\u001b[0m \u001b[1m1s\u001b[0m 3ms/step - loss: 0.2852 - mean_absolute_error: 0.3760 - val_loss: 14.1680 - val_mean_absolute_error: 2.4548\n",
            "Epoch 27/60\n",
            "\u001b[1m387/387\u001b[0m \u001b[32m━━━━━━━━━━━━━━━━━━━━\u001b[0m\u001b[37m\u001b[0m \u001b[1m2s\u001b[0m 2ms/step - loss: 0.2914 - mean_absolute_error: 0.3727 - val_loss: 14.6753 - val_mean_absolute_error: 2.4885\n",
            "Epoch 28/60\n",
            "\u001b[1m387/387\u001b[0m \u001b[32m━━━━━━━━━━━━━━━━━━━━\u001b[0m\u001b[37m\u001b[0m \u001b[1m1s\u001b[0m 2ms/step - loss: 0.2921 - mean_absolute_error: 0.3773 - val_loss: 14.6354 - val_mean_absolute_error: 2.4505\n",
            "Epoch 29/60\n",
            "\u001b[1m387/387\u001b[0m \u001b[32m━━━━━━━━━━━━━━━━━━━━\u001b[0m\u001b[37m\u001b[0m \u001b[1m1s\u001b[0m 3ms/step - loss: 0.2872 - mean_absolute_error: 0.3709 - val_loss: 16.7310 - val_mean_absolute_error: 2.6295\n",
            "Epoch 30/60\n",
            "\u001b[1m387/387\u001b[0m \u001b[32m━━━━━━━━━━━━━━━━━━━━\u001b[0m\u001b[37m\u001b[0m \u001b[1m1s\u001b[0m 2ms/step - loss: 0.2925 - mean_absolute_error: 0.3763 - val_loss: 17.1319 - val_mean_absolute_error: 2.6502\n",
            "Epoch 31/60\n",
            "\u001b[1m387/387\u001b[0m \u001b[32m━━━━━━━━━━━━━━━━━━━━\u001b[0m\u001b[37m\u001b[0m \u001b[1m1s\u001b[0m 2ms/step - loss: 0.2984 - mean_absolute_error: 0.3786 - val_loss: 17.6196 - val_mean_absolute_error: 2.6760\n",
            "Epoch 32/60\n",
            "\u001b[1m387/387\u001b[0m \u001b[32m━━━━━━━━━━━━━━━━━━━━\u001b[0m\u001b[37m\u001b[0m \u001b[1m1s\u001b[0m 2ms/step - loss: 0.2883 - mean_absolute_error: 0.3727 - val_loss: 18.6989 - val_mean_absolute_error: 2.7465\n",
            "Epoch 33/60\n",
            "\u001b[1m387/387\u001b[0m \u001b[32m━━━━━━━━━━━━━━━━━━━━\u001b[0m\u001b[37m\u001b[0m \u001b[1m1s\u001b[0m 2ms/step - loss: 0.2881 - mean_absolute_error: 0.3666 - val_loss: 18.6023 - val_mean_absolute_error: 2.7220\n",
            "Epoch 34/60\n",
            "\u001b[1m387/387\u001b[0m \u001b[32m━━━━━━━━━━━━━━━━━━━━\u001b[0m\u001b[37m\u001b[0m \u001b[1m1s\u001b[0m 2ms/step - loss: 0.2897 - mean_absolute_error: 0.3687 - val_loss: 19.0493 - val_mean_absolute_error: 2.7441\n",
            "Epoch 35/60\n",
            "\u001b[1m387/387\u001b[0m \u001b[32m━━━━━━━━━━━━━━━━━━━━\u001b[0m\u001b[37m\u001b[0m \u001b[1m2s\u001b[0m 3ms/step - loss: 0.2725 - mean_absolute_error: 0.3596 - val_loss: 20.2119 - val_mean_absolute_error: 2.8286\n",
            "Epoch 36/60\n",
            "\u001b[1m387/387\u001b[0m \u001b[32m━━━━━━━━━━━━━━━━━━━━\u001b[0m\u001b[37m\u001b[0m \u001b[1m2s\u001b[0m 2ms/step - loss: 0.2717 - mean_absolute_error: 0.3621 - val_loss: 20.8815 - val_mean_absolute_error: 2.8660\n",
            "Epoch 37/60\n",
            "\u001b[1m387/387\u001b[0m \u001b[32m━━━━━━━━━━━━━━━━━━━━\u001b[0m\u001b[37m\u001b[0m \u001b[1m1s\u001b[0m 2ms/step - loss: 0.2730 - mean_absolute_error: 0.3592 - val_loss: 21.5463 - val_mean_absolute_error: 2.9072\n",
            "Epoch 38/60\n",
            "\u001b[1m387/387\u001b[0m \u001b[32m━━━━━━━━━━━━━━━━━━━━\u001b[0m\u001b[37m\u001b[0m \u001b[1m1s\u001b[0m 2ms/step - loss: 0.2764 - mean_absolute_error: 0.3645 - val_loss: 22.4966 - val_mean_absolute_error: 2.9715\n",
            "Epoch 39/60\n",
            "\u001b[1m387/387\u001b[0m \u001b[32m━━━━━━━━━━━━━━━━━━━━\u001b[0m\u001b[37m\u001b[0m \u001b[1m1s\u001b[0m 2ms/step - loss: 0.2843 - mean_absolute_error: 0.3666 - val_loss: 22.8570 - val_mean_absolute_error: 2.9706\n",
            "Epoch 40/60\n",
            "\u001b[1m387/387\u001b[0m \u001b[32m━━━━━━━━━━━━━━━━━━━━\u001b[0m\u001b[37m\u001b[0m \u001b[1m1s\u001b[0m 2ms/step - loss: 0.2690 - mean_absolute_error: 0.3566 - val_loss: 23.5315 - val_mean_absolute_error: 3.0240\n",
            "Epoch 41/60\n",
            "\u001b[1m387/387\u001b[0m \u001b[32m━━━━━━━━━━━━━━━━━━━━\u001b[0m\u001b[37m\u001b[0m \u001b[1m1s\u001b[0m 2ms/step - loss: 0.2656 - mean_absolute_error: 0.3560 - val_loss: 23.3983 - val_mean_absolute_error: 3.0116\n",
            "Epoch 42/60\n",
            "\u001b[1m387/387\u001b[0m \u001b[32m━━━━━━━━━━━━━━━━━━━━\u001b[0m\u001b[37m\u001b[0m \u001b[1m1s\u001b[0m 2ms/step - loss: 0.2816 - mean_absolute_error: 0.3655 - val_loss: 25.0579 - val_mean_absolute_error: 3.1038\n",
            "Epoch 43/60\n",
            "\u001b[1m387/387\u001b[0m \u001b[32m━━━━━━━━━━━━━━━━━━━━\u001b[0m\u001b[37m\u001b[0m \u001b[1m1s\u001b[0m 2ms/step - loss: 0.2668 - mean_absolute_error: 0.3571 - val_loss: 25.1006 - val_mean_absolute_error: 3.0978\n",
            "Epoch 44/60\n",
            "\u001b[1m387/387\u001b[0m \u001b[32m━━━━━━━━━━━━━━━━━━━━\u001b[0m\u001b[37m\u001b[0m \u001b[1m2s\u001b[0m 3ms/step - loss: 0.2721 - mean_absolute_error: 0.3598 - val_loss: 26.2098 - val_mean_absolute_error: 3.1660\n",
            "Epoch 45/60\n",
            "\u001b[1m387/387\u001b[0m \u001b[32m━━━━━━━━━━━━━━━━━━━━\u001b[0m\u001b[37m\u001b[0m \u001b[1m2s\u001b[0m 2ms/step - loss: 0.2709 - mean_absolute_error: 0.3575 - val_loss: 26.3000 - val_mean_absolute_error: 3.1695\n",
            "Epoch 46/60\n",
            "\u001b[1m387/387\u001b[0m \u001b[32m━━━━━━━━━━━━━━━━━━━━\u001b[0m\u001b[37m\u001b[0m \u001b[1m1s\u001b[0m 3ms/step - loss: 0.2738 - mean_absolute_error: 0.3606 - val_loss: 26.8587 - val_mean_absolute_error: 3.1981\n",
            "Epoch 47/60\n",
            "\u001b[1m387/387\u001b[0m \u001b[32m━━━━━━━━━━━━━━━━━━━━\u001b[0m\u001b[37m\u001b[0m \u001b[1m1s\u001b[0m 2ms/step - loss: 0.2725 - mean_absolute_error: 0.3592 - val_loss: 27.0257 - val_mean_absolute_error: 3.1912\n",
            "Epoch 48/60\n",
            "\u001b[1m387/387\u001b[0m \u001b[32m━━━━━━━━━━━━━━━━━━━━\u001b[0m\u001b[37m\u001b[0m \u001b[1m1s\u001b[0m 2ms/step - loss: 0.2612 - mean_absolute_error: 0.3522 - val_loss: 27.7582 - val_mean_absolute_error: 3.2457\n",
            "Epoch 49/60\n",
            "\u001b[1m387/387\u001b[0m \u001b[32m━━━━━━━━━━━━━━━━━━━━\u001b[0m\u001b[37m\u001b[0m \u001b[1m1s\u001b[0m 2ms/step - loss: 0.2689 - mean_absolute_error: 0.3563 - val_loss: 27.7672 - val_mean_absolute_error: 3.2270\n",
            "Epoch 50/60\n",
            "\u001b[1m387/387\u001b[0m \u001b[32m━━━━━━━━━━━━━━━━━━━━\u001b[0m\u001b[37m\u001b[0m \u001b[1m1s\u001b[0m 2ms/step - loss: 0.2588 - mean_absolute_error: 0.3517 - val_loss: 28.4529 - val_mean_absolute_error: 3.2538\n",
            "Epoch 51/60\n",
            "\u001b[1m387/387\u001b[0m \u001b[32m━━━━━━━━━━━━━━━━━━━━\u001b[0m\u001b[37m\u001b[0m \u001b[1m1s\u001b[0m 2ms/step - loss: 0.2681 - mean_absolute_error: 0.3524 - val_loss: 28.5242 - val_mean_absolute_error: 3.2559\n",
            "Epoch 52/60\n",
            "\u001b[1m387/387\u001b[0m \u001b[32m━━━━━━━━━━━━━━━━━━━━\u001b[0m\u001b[37m\u001b[0m \u001b[1m1s\u001b[0m 2ms/step - loss: 0.2555 - mean_absolute_error: 0.3499 - val_loss: 29.7797 - val_mean_absolute_error: 3.3424\n",
            "Epoch 53/60\n",
            "\u001b[1m387/387\u001b[0m \u001b[32m━━━━━━━━━━━━━━━━━━━━\u001b[0m\u001b[37m\u001b[0m \u001b[1m2s\u001b[0m 3ms/step - loss: 0.2747 - mean_absolute_error: 0.3585 - val_loss: 30.5934 - val_mean_absolute_error: 3.3758\n",
            "Epoch 54/60\n",
            "\u001b[1m387/387\u001b[0m \u001b[32m━━━━━━━━━━━━━━━━━━━━\u001b[0m\u001b[37m\u001b[0m \u001b[1m1s\u001b[0m 4ms/step - loss: 0.2684 - mean_absolute_error: 0.3556 - val_loss: 31.3699 - val_mean_absolute_error: 3.4058\n",
            "Epoch 55/60\n",
            "\u001b[1m387/387\u001b[0m \u001b[32m━━━━━━━━━━━━━━━━━━━━\u001b[0m\u001b[37m\u001b[0m \u001b[1m1s\u001b[0m 3ms/step - loss: 0.2587 - mean_absolute_error: 0.3520 - val_loss: 30.7840 - val_mean_absolute_error: 3.3797\n",
            "Epoch 56/60\n",
            "\u001b[1m387/387\u001b[0m \u001b[32m━━━━━━━━━━━━━━━━━━━━\u001b[0m\u001b[37m\u001b[0m \u001b[1m1s\u001b[0m 2ms/step - loss: 0.2717 - mean_absolute_error: 0.3583 - val_loss: 30.9955 - val_mean_absolute_error: 3.3745\n",
            "Epoch 57/60\n",
            "\u001b[1m387/387\u001b[0m \u001b[32m━━━━━━━━━━━━━━━━━━━━\u001b[0m\u001b[37m\u001b[0m \u001b[1m1s\u001b[0m 2ms/step - loss: 0.2495 - mean_absolute_error: 0.3407 - val_loss: 32.7181 - val_mean_absolute_error: 3.4848\n",
            "Epoch 58/60\n",
            "\u001b[1m387/387\u001b[0m \u001b[32m━━━━━━━━━━━━━━━━━━━━\u001b[0m\u001b[37m\u001b[0m \u001b[1m1s\u001b[0m 2ms/step - loss: 0.2644 - mean_absolute_error: 0.3516 - val_loss: 31.7939 - val_mean_absolute_error: 3.4309\n",
            "Epoch 59/60\n",
            "\u001b[1m387/387\u001b[0m \u001b[32m━━━━━━━━━━━━━━━━━━━━\u001b[0m\u001b[37m\u001b[0m \u001b[1m1s\u001b[0m 2ms/step - loss: 0.2620 - mean_absolute_error: 0.3514 - val_loss: 33.4209 - val_mean_absolute_error: 3.5046\n",
            "Epoch 60/60\n",
            "\u001b[1m387/387\u001b[0m \u001b[32m━━━━━━━━━━━━━━━━━━━━\u001b[0m\u001b[37m\u001b[0m \u001b[1m1s\u001b[0m 2ms/step - loss: 0.2668 - mean_absolute_error: 0.3548 - val_loss: 32.7238 - val_mean_absolute_error: 3.4596\n"
          ]
        },
        {
          "output_type": "execute_result",
          "data": {
            "text/plain": [
              "<keras.src.callbacks.history.History at 0x7f9762b81a50>"
            ]
          },
          "metadata": {},
          "execution_count": 16
        }
      ]
    },
    {
      "cell_type": "code",
      "source": [
        "model.evaluate(test_x, test_y)"
      ],
      "metadata": {
        "colab": {
          "base_uri": "https://localhost:8080/"
        },
        "id": "FMFxDtLRkx8_",
        "outputId": "d62888c5-334d-4319-cb64-9c9f0e32e123"
      },
      "execution_count": 17,
      "outputs": [
        {
          "output_type": "stream",
          "name": "stdout",
          "text": [
            "\u001b[1m129/129\u001b[0m \u001b[32m━━━━━━━━━━━━━━━━━━━━\u001b[0m\u001b[37m\u001b[0m \u001b[1m0s\u001b[0m 1ms/step - loss: 18.9084 - mean_absolute_error: 2.5866\n"
          ]
        },
        {
          "output_type": "execute_result",
          "data": {
            "text/plain": [
              "[19.452682495117188, 2.640848398208618]"
            ]
          },
          "metadata": {},
          "execution_count": 17
        }
      ]
    },
    {
      "cell_type": "code",
      "source": [
        "test_x[1:2]"
      ],
      "metadata": {
        "colab": {
          "base_uri": "https://localhost:8080/"
        },
        "id": "5_jdnNM9nc9_",
        "outputId": "377407a7-6b6d-405a-bb63-a3db5aa88404"
      },
      "execution_count": 62,
      "outputs": [
        {
          "output_type": "execute_result",
          "data": {
            "text/plain": [
              "array([[-1.00593809,  0.66570524, -0.16519684, -0.11154454, -0.25064513,\n",
              "        -0.04004423,  0.54301993, -0.10941961]])"
            ]
          },
          "metadata": {},
          "execution_count": 62
        }
      ]
    },
    {
      "cell_type": "code",
      "source": [
        "model.predict(test_x[1:2])"
      ],
      "metadata": {
        "colab": {
          "base_uri": "https://localhost:8080/"
        },
        "id": "FiY0w01zlDmW",
        "outputId": "8da43ef4-eb48-4894-a750-86ae0a12e459"
      },
      "execution_count": 63,
      "outputs": [
        {
          "output_type": "stream",
          "name": "stdout",
          "text": [
            "\u001b[1m1/1\u001b[0m \u001b[32m━━━━━━━━━━━━━━━━━━━━\u001b[0m\u001b[37m\u001b[0m \u001b[1m0s\u001b[0m 59ms/step\n"
          ]
        },
        {
          "output_type": "execute_result",
          "data": {
            "text/plain": [
              "array([[0.56382865]], dtype=float32)"
            ]
          },
          "metadata": {},
          "execution_count": 63
        }
      ]
    },
    {
      "cell_type": "code",
      "source": [
        "test_y[1:2]"
      ],
      "metadata": {
        "colab": {
          "base_uri": "https://localhost:8080/"
        },
        "id": "CtfKmHQ2naiO",
        "outputId": "207334ce-959e-4cdf-af22-ec385f7a511b"
      },
      "execution_count": 64,
      "outputs": [
        {
          "output_type": "execute_result",
          "data": {
            "text/plain": [
              "array([0.707])"
            ]
          },
          "metadata": {},
          "execution_count": 64
        }
      ]
    },
    {
      "cell_type": "code",
      "source": [
        "input_ = keras.layers.Input(shape=train_x1.shape[1:])\n",
        "hidden_layer1= keras.layers.Dense(50, activation=\"relu\")(input_)\n",
        "hidden_layer2 = keras.layers.Dense(25, activation=\"relu\")(hidden_layer1)\n",
        "concatenate_layer = keras.layers.Concatenate()([input_, hidden_layer2])\n",
        "output= keras.layers.Dense(1)(concatenate_layer)\n",
        "model = keras.Model(inputs=[input_], outputs=[output])"
      ],
      "metadata": {
        "id": "5hLyLXwOno3f"
      },
      "execution_count": 18,
      "outputs": []
    },
    {
      "cell_type": "code",
      "source": [
        "model.compile(loss= \"mean_squared_error\",\n",
        "              optimizer = \"sgd\",\n",
        "              metrics = [\"mean_absolute_error\"])"
      ],
      "metadata": {
        "id": "u8berSLbpxrF"
      },
      "execution_count": 19,
      "outputs": []
    },
    {
      "cell_type": "code",
      "source": [
        "model.fit(train_x1, train_y1, epochs=50, validation_data=[validation_x, validation_y])"
      ],
      "metadata": {
        "colab": {
          "base_uri": "https://localhost:8080/"
        },
        "id": "aZuy59QzrJOw",
        "outputId": "1a113f20-db65-4288-8c77-da9e4df94d8d"
      },
      "execution_count": 20,
      "outputs": [
        {
          "output_type": "stream",
          "name": "stdout",
          "text": [
            "Epoch 1/50\n",
            "\u001b[1m387/387\u001b[0m \u001b[32m━━━━━━━━━━━━━━━━━━━━\u001b[0m\u001b[37m\u001b[0m \u001b[1m2s\u001b[0m 3ms/step - loss: 2.8166 - mean_absolute_error: 0.8202 - val_loss: 0.9123 - val_mean_absolute_error: 0.7022\n",
            "Epoch 2/50\n",
            "\u001b[1m387/387\u001b[0m \u001b[32m━━━━━━━━━━━━━━━━━━━━\u001b[0m\u001b[37m\u001b[0m \u001b[1m1s\u001b[0m 2ms/step - loss: 0.9550 - mean_absolute_error: 0.5319 - val_loss: 0.9767 - val_mean_absolute_error: 0.6794\n",
            "Epoch 3/50\n",
            "\u001b[1m387/387\u001b[0m \u001b[32m━━━━━━━━━━━━━━━━━━━━\u001b[0m\u001b[37m\u001b[0m \u001b[1m2s\u001b[0m 3ms/step - loss: 0.4839 - mean_absolute_error: 0.4990 - val_loss: 0.5482 - val_mean_absolute_error: 0.5274\n",
            "Epoch 4/50\n",
            "\u001b[1m387/387\u001b[0m \u001b[32m━━━━━━━━━━━━━━━━━━━━\u001b[0m\u001b[37m\u001b[0m \u001b[1m2s\u001b[0m 2ms/step - loss: 0.4283 - mean_absolute_error: 0.4751 - val_loss: 0.8451 - val_mean_absolute_error: 0.5418\n",
            "Epoch 5/50\n",
            "\u001b[1m387/387\u001b[0m \u001b[32m━━━━━━━━━━━━━━━━━━━━\u001b[0m\u001b[37m\u001b[0m \u001b[1m1s\u001b[0m 2ms/step - loss: 0.4761 - mean_absolute_error: 0.4836 - val_loss: 0.4869 - val_mean_absolute_error: 0.5282\n",
            "Epoch 6/50\n",
            "\u001b[1m387/387\u001b[0m \u001b[32m━━━━━━━━━━━━━━━━━━━━\u001b[0m\u001b[37m\u001b[0m \u001b[1m1s\u001b[0m 2ms/step - loss: 0.4063 - mean_absolute_error: 0.4578 - val_loss: 0.5579 - val_mean_absolute_error: 0.5596\n",
            "Epoch 7/50\n",
            "\u001b[1m387/387\u001b[0m \u001b[32m━━━━━━━━━━━━━━━━━━━━\u001b[0m\u001b[37m\u001b[0m \u001b[1m1s\u001b[0m 2ms/step - loss: 0.4117 - mean_absolute_error: 0.4586 - val_loss: 1.1830 - val_mean_absolute_error: 0.8375\n",
            "Epoch 8/50\n",
            "\u001b[1m387/387\u001b[0m \u001b[32m━━━━━━━━━━━━━━━━━━━━\u001b[0m\u001b[37m\u001b[0m \u001b[1m1s\u001b[0m 2ms/step - loss: 0.5422 - mean_absolute_error: 0.4465 - val_loss: 1.1113 - val_mean_absolute_error: 0.7960\n",
            "Epoch 9/50\n",
            "\u001b[1m387/387\u001b[0m \u001b[32m━━━━━━━━━━━━━━━━━━━━\u001b[0m\u001b[37m\u001b[0m \u001b[1m1s\u001b[0m 2ms/step - loss: 0.3893 - mean_absolute_error: 0.4432 - val_loss: 1.3029 - val_mean_absolute_error: 0.8541\n",
            "Epoch 10/50\n",
            "\u001b[1m387/387\u001b[0m \u001b[32m━━━━━━━━━━━━━━━━━━━━\u001b[0m\u001b[37m\u001b[0m \u001b[1m1s\u001b[0m 2ms/step - loss: 0.3863 - mean_absolute_error: 0.4395 - val_loss: 2.2340 - val_mean_absolute_error: 1.1583\n",
            "Epoch 11/50\n",
            "\u001b[1m387/387\u001b[0m \u001b[32m━━━━━━━━━━━━━━━━━━━━\u001b[0m\u001b[37m\u001b[0m \u001b[1m1s\u001b[0m 2ms/step - loss: 0.4809 - mean_absolute_error: 0.4292 - val_loss: 1.4574 - val_mean_absolute_error: 0.8620\n",
            "Epoch 12/50\n",
            "\u001b[1m387/387\u001b[0m \u001b[32m━━━━━━━━━━━━━━━━━━━━\u001b[0m\u001b[37m\u001b[0m \u001b[1m1s\u001b[0m 2ms/step - loss: 0.6063 - mean_absolute_error: 0.4437 - val_loss: 2.2203 - val_mean_absolute_error: 1.0897\n",
            "Epoch 13/50\n",
            "\u001b[1m387/387\u001b[0m \u001b[32m━━━━━━━━━━━━━━━━━━━━\u001b[0m\u001b[37m\u001b[0m \u001b[1m2s\u001b[0m 3ms/step - loss: 0.3647 - mean_absolute_error: 0.4219 - val_loss: 2.6918 - val_mean_absolute_error: 1.1893\n",
            "Epoch 14/50\n",
            "\u001b[1m387/387\u001b[0m \u001b[32m━━━━━━━━━━━━━━━━━━━━\u001b[0m\u001b[37m\u001b[0m \u001b[1m2s\u001b[0m 2ms/step - loss: 0.3521 - mean_absolute_error: 0.4183 - val_loss: 3.0323 - val_mean_absolute_error: 1.2512\n",
            "Epoch 15/50\n",
            "\u001b[1m387/387\u001b[0m \u001b[32m━━━━━━━━━━━━━━━━━━━━\u001b[0m\u001b[37m\u001b[0m \u001b[1m1s\u001b[0m 2ms/step - loss: 0.3806 - mean_absolute_error: 0.4141 - val_loss: 3.5427 - val_mean_absolute_error: 1.3611\n",
            "Epoch 16/50\n",
            "\u001b[1m387/387\u001b[0m \u001b[32m━━━━━━━━━━━━━━━━━━━━\u001b[0m\u001b[37m\u001b[0m \u001b[1m1s\u001b[0m 2ms/step - loss: 0.3388 - mean_absolute_error: 0.4123 - val_loss: 4.7374 - val_mean_absolute_error: 1.5891\n",
            "Epoch 17/50\n",
            "\u001b[1m387/387\u001b[0m \u001b[32m━━━━━━━━━━━━━━━━━━━━\u001b[0m\u001b[37m\u001b[0m \u001b[1m1s\u001b[0m 2ms/step - loss: 0.4005 - mean_absolute_error: 0.4103 - val_loss: 5.2615 - val_mean_absolute_error: 1.6483\n",
            "Epoch 18/50\n",
            "\u001b[1m387/387\u001b[0m \u001b[32m━━━━━━━━━━━━━━━━━━━━\u001b[0m\u001b[37m\u001b[0m \u001b[1m1s\u001b[0m 2ms/step - loss: 0.3640 - mean_absolute_error: 0.4074 - val_loss: 5.1622 - val_mean_absolute_error: 1.5953\n",
            "Epoch 19/50\n",
            "\u001b[1m387/387\u001b[0m \u001b[32m━━━━━━━━━━━━━━━━━━━━\u001b[0m\u001b[37m\u001b[0m \u001b[1m1s\u001b[0m 2ms/step - loss: 0.3378 - mean_absolute_error: 0.4077 - val_loss: 6.2447 - val_mean_absolute_error: 1.7307\n",
            "Epoch 20/50\n",
            "\u001b[1m387/387\u001b[0m \u001b[32m━━━━━━━━━━━━━━━━━━━━\u001b[0m\u001b[37m\u001b[0m \u001b[1m1s\u001b[0m 2ms/step - loss: 0.3405 - mean_absolute_error: 0.4033 - val_loss: 6.4021 - val_mean_absolute_error: 1.7685\n",
            "Epoch 21/50\n",
            "\u001b[1m387/387\u001b[0m \u001b[32m━━━━━━━━━━━━━━━━━━━━\u001b[0m\u001b[37m\u001b[0m \u001b[1m1s\u001b[0m 2ms/step - loss: 0.3388 - mean_absolute_error: 0.4060 - val_loss: 6.9044 - val_mean_absolute_error: 1.8291\n",
            "Epoch 22/50\n",
            "\u001b[1m387/387\u001b[0m \u001b[32m━━━━━━━━━━━━━━━━━━━━\u001b[0m\u001b[37m\u001b[0m \u001b[1m2s\u001b[0m 3ms/step - loss: 0.3461 - mean_absolute_error: 0.4095 - val_loss: 7.0555 - val_mean_absolute_error: 1.8341\n",
            "Epoch 23/50\n",
            "\u001b[1m387/387\u001b[0m \u001b[32m━━━━━━━━━━━━━━━━━━━━\u001b[0m\u001b[37m\u001b[0m \u001b[1m2s\u001b[0m 2ms/step - loss: 0.3404 - mean_absolute_error: 0.4096 - val_loss: 8.1161 - val_mean_absolute_error: 1.9605\n",
            "Epoch 24/50\n",
            "\u001b[1m387/387\u001b[0m \u001b[32m━━━━━━━━━━━━━━━━━━━━\u001b[0m\u001b[37m\u001b[0m \u001b[1m1s\u001b[0m 2ms/step - loss: 0.3237 - mean_absolute_error: 0.3974 - val_loss: 8.2441 - val_mean_absolute_error: 1.9672\n",
            "Epoch 25/50\n",
            "\u001b[1m387/387\u001b[0m \u001b[32m━━━━━━━━━━━━━━━━━━━━\u001b[0m\u001b[37m\u001b[0m \u001b[1m1s\u001b[0m 2ms/step - loss: 0.3156 - mean_absolute_error: 0.3938 - val_loss: 9.9235 - val_mean_absolute_error: 2.1953\n",
            "Epoch 26/50\n",
            "\u001b[1m387/387\u001b[0m \u001b[32m━━━━━━━━━━━━━━━━━━━━\u001b[0m\u001b[37m\u001b[0m \u001b[1m1s\u001b[0m 2ms/step - loss: 0.3624 - mean_absolute_error: 0.4041 - val_loss: 8.9828 - val_mean_absolute_error: 2.0172\n",
            "Epoch 27/50\n",
            "\u001b[1m387/387\u001b[0m \u001b[32m━━━━━━━━━━━━━━━━━━━━\u001b[0m\u001b[37m\u001b[0m \u001b[1m1s\u001b[0m 2ms/step - loss: 0.3147 - mean_absolute_error: 0.3929 - val_loss: 9.0474 - val_mean_absolute_error: 2.0181\n",
            "Epoch 28/50\n",
            "\u001b[1m387/387\u001b[0m \u001b[32m━━━━━━━━━━━━━━━━━━━━\u001b[0m\u001b[37m\u001b[0m \u001b[1m1s\u001b[0m 2ms/step - loss: 0.3252 - mean_absolute_error: 0.3919 - val_loss: 9.7996 - val_mean_absolute_error: 2.0832\n",
            "Epoch 29/50\n",
            "\u001b[1m387/387\u001b[0m \u001b[32m━━━━━━━━━━━━━━━━━━━━\u001b[0m\u001b[37m\u001b[0m \u001b[1m1s\u001b[0m 2ms/step - loss: 0.3290 - mean_absolute_error: 0.3933 - val_loss: 10.4393 - val_mean_absolute_error: 2.1703\n",
            "Epoch 30/50\n",
            "\u001b[1m387/387\u001b[0m \u001b[32m━━━━━━━━━━━━━━━━━━━━\u001b[0m\u001b[37m\u001b[0m \u001b[1m2s\u001b[0m 3ms/step - loss: 0.3099 - mean_absolute_error: 0.3911 - val_loss: 10.4180 - val_mean_absolute_error: 2.1385\n",
            "Epoch 31/50\n",
            "\u001b[1m387/387\u001b[0m \u001b[32m━━━━━━━━━━━━━━━━━━━━\u001b[0m\u001b[37m\u001b[0m \u001b[1m1s\u001b[0m 3ms/step - loss: 0.3277 - mean_absolute_error: 0.3868 - val_loss: 11.3104 - val_mean_absolute_error: 2.2411\n",
            "Epoch 32/50\n",
            "\u001b[1m387/387\u001b[0m \u001b[32m━━━━━━━━━━━━━━━━━━━━\u001b[0m\u001b[37m\u001b[0m \u001b[1m1s\u001b[0m 3ms/step - loss: 0.3040 - mean_absolute_error: 0.3866 - val_loss: 11.8876 - val_mean_absolute_error: 2.2823\n",
            "Epoch 33/50\n",
            "\u001b[1m387/387\u001b[0m \u001b[32m━━━━━━━━━━━━━━━━━━━━\u001b[0m\u001b[37m\u001b[0m \u001b[1m2s\u001b[0m 2ms/step - loss: 0.3244 - mean_absolute_error: 0.3948 - val_loss: 11.7341 - val_mean_absolute_error: 2.2610\n",
            "Epoch 34/50\n",
            "\u001b[1m387/387\u001b[0m \u001b[32m━━━━━━━━━━━━━━━━━━━━\u001b[0m\u001b[37m\u001b[0m \u001b[1m1s\u001b[0m 2ms/step - loss: 0.3097 - mean_absolute_error: 0.3883 - val_loss: 11.3972 - val_mean_absolute_error: 2.2276\n",
            "Epoch 35/50\n",
            "\u001b[1m387/387\u001b[0m \u001b[32m━━━━━━━━━━━━━━━━━━━━\u001b[0m\u001b[37m\u001b[0m \u001b[1m1s\u001b[0m 2ms/step - loss: 0.3234 - mean_absolute_error: 0.3890 - val_loss: 12.2252 - val_mean_absolute_error: 2.3107\n",
            "Epoch 36/50\n",
            "\u001b[1m387/387\u001b[0m \u001b[32m━━━━━━━━━━━━━━━━━━━━\u001b[0m\u001b[37m\u001b[0m \u001b[1m1s\u001b[0m 2ms/step - loss: 0.2954 - mean_absolute_error: 0.3798 - val_loss: 13.2670 - val_mean_absolute_error: 2.3881\n",
            "Epoch 37/50\n",
            "\u001b[1m387/387\u001b[0m \u001b[32m━━━━━━━━━━━━━━━━━━━━\u001b[0m\u001b[37m\u001b[0m \u001b[1m1s\u001b[0m 2ms/step - loss: 0.3334 - mean_absolute_error: 0.3898 - val_loss: 12.7393 - val_mean_absolute_error: 2.3636\n",
            "Epoch 38/50\n",
            "\u001b[1m387/387\u001b[0m \u001b[32m━━━━━━━━━━━━━━━━━━━━\u001b[0m\u001b[37m\u001b[0m \u001b[1m1s\u001b[0m 2ms/step - loss: 0.3067 - mean_absolute_error: 0.3865 - val_loss: 14.3617 - val_mean_absolute_error: 2.5449\n",
            "Epoch 39/50\n",
            "\u001b[1m387/387\u001b[0m \u001b[32m━━━━━━━━━━━━━━━━━━━━\u001b[0m\u001b[37m\u001b[0m \u001b[1m1s\u001b[0m 2ms/step - loss: 0.3272 - mean_absolute_error: 0.3886 - val_loss: 13.3428 - val_mean_absolute_error: 2.3863\n",
            "Epoch 40/50\n",
            "\u001b[1m387/387\u001b[0m \u001b[32m━━━━━━━━━━━━━━━━━━━━\u001b[0m\u001b[37m\u001b[0m \u001b[1m1s\u001b[0m 2ms/step - loss: 0.3023 - mean_absolute_error: 0.3869 - val_loss: 13.3175 - val_mean_absolute_error: 2.3792\n",
            "Epoch 41/50\n",
            "\u001b[1m387/387\u001b[0m \u001b[32m━━━━━━━━━━━━━━━━━━━━\u001b[0m\u001b[37m\u001b[0m \u001b[1m2s\u001b[0m 3ms/step - loss: 0.3032 - mean_absolute_error: 0.3830 - val_loss: 13.6683 - val_mean_absolute_error: 2.4144\n",
            "Epoch 42/50\n",
            "\u001b[1m387/387\u001b[0m \u001b[32m━━━━━━━━━━━━━━━━━━━━\u001b[0m\u001b[37m\u001b[0m \u001b[1m1s\u001b[0m 3ms/step - loss: 0.3076 - mean_absolute_error: 0.3875 - val_loss: 13.8895 - val_mean_absolute_error: 2.4550\n",
            "Epoch 43/50\n",
            "\u001b[1m387/387\u001b[0m \u001b[32m━━━━━━━━━━━━━━━━━━━━\u001b[0m\u001b[37m\u001b[0m \u001b[1m2s\u001b[0m 2ms/step - loss: 0.2998 - mean_absolute_error: 0.3827 - val_loss: 13.3732 - val_mean_absolute_error: 2.3851\n",
            "Epoch 44/50\n",
            "\u001b[1m387/387\u001b[0m \u001b[32m━━━━━━━━━━━━━━━━━━━━\u001b[0m\u001b[37m\u001b[0m \u001b[1m1s\u001b[0m 2ms/step - loss: 0.2877 - mean_absolute_error: 0.3749 - val_loss: 15.1668 - val_mean_absolute_error: 2.5870\n",
            "Epoch 45/50\n",
            "\u001b[1m387/387\u001b[0m \u001b[32m━━━━━━━━━━━━━━━━━━━━\u001b[0m\u001b[37m\u001b[0m \u001b[1m1s\u001b[0m 2ms/step - loss: 0.2987 - mean_absolute_error: 0.3827 - val_loss: 14.9899 - val_mean_absolute_error: 2.5902\n",
            "Epoch 46/50\n",
            "\u001b[1m387/387\u001b[0m \u001b[32m━━━━━━━━━━━━━━━━━━━━\u001b[0m\u001b[37m\u001b[0m \u001b[1m1s\u001b[0m 2ms/step - loss: 0.4465 - mean_absolute_error: 0.3847 - val_loss: 14.2356 - val_mean_absolute_error: 2.4821\n",
            "Epoch 47/50\n",
            "\u001b[1m387/387\u001b[0m \u001b[32m━━━━━━━━━━━━━━━━━━━━\u001b[0m\u001b[37m\u001b[0m \u001b[1m1s\u001b[0m 2ms/step - loss: 0.3108 - mean_absolute_error: 0.3893 - val_loss: 13.9867 - val_mean_absolute_error: 2.4486\n",
            "Epoch 48/50\n",
            "\u001b[1m387/387\u001b[0m \u001b[32m━━━━━━━━━━━━━━━━━━━━\u001b[0m\u001b[37m\u001b[0m \u001b[1m1s\u001b[0m 2ms/step - loss: 0.2918 - mean_absolute_error: 0.3770 - val_loss: 14.6134 - val_mean_absolute_error: 2.5017\n",
            "Epoch 49/50\n",
            "\u001b[1m387/387\u001b[0m \u001b[32m━━━━━━━━━━━━━━━━━━━━\u001b[0m\u001b[37m\u001b[0m \u001b[1m1s\u001b[0m 2ms/step - loss: 0.3066 - mean_absolute_error: 0.3799 - val_loss: 13.9940 - val_mean_absolute_error: 2.4412\n",
            "Epoch 50/50\n",
            "\u001b[1m387/387\u001b[0m \u001b[32m━━━━━━━━━━━━━━━━━━━━\u001b[0m\u001b[37m\u001b[0m \u001b[1m1s\u001b[0m 2ms/step - loss: 0.2902 - mean_absolute_error: 0.3738 - val_loss: 15.0600 - val_mean_absolute_error: 2.5155\n"
          ]
        },
        {
          "output_type": "execute_result",
          "data": {
            "text/plain": [
              "<keras.src.callbacks.history.History at 0x7f975fab9600>"
            ]
          },
          "metadata": {},
          "execution_count": 20
        }
      ]
    },
    {
      "cell_type": "markdown",
      "source": [
        "##Split Input to A & B"
      ],
      "metadata": {
        "id": "aTOvn6DjsPgi"
      }
    },
    {
      "cell_type": "code",
      "source": [
        "x_train_s_1 , x_train_s_2 = train_x1[:, :6], train_x1[:, -4:]\n",
        "x_validation_s_1, x_validation_s_2 =validation_x[:, :6], validation_x[:, -4:]\n",
        "x_test_s_1, x_test_s_2 = test_x[:, :6], test_x[:, -4:]"
      ],
      "metadata": {
        "id": "QbLrOxFNpGzb"
      },
      "execution_count": 21,
      "outputs": []
    },
    {
      "cell_type": "code",
      "source": [
        "x_train_s_1"
      ],
      "metadata": {
        "colab": {
          "base_uri": "https://localhost:8080/"
        },
        "id": "YheijlE6t3Qf",
        "outputId": "c5dc56ec-dec5-4b88-e4be-8359845e3870"
      },
      "execution_count": 22,
      "outputs": [
        {
          "output_type": "execute_result",
          "data": {
            "text/plain": [
              "array([[-0.52837711, -0.92127216, -0.39874584,  0.16755994, -0.47892605,\n",
              "        -0.04362223],\n",
              "       [ 0.71779774, -0.28614019,  0.28858143, -0.15253446,  2.21970105,\n",
              "         0.02534357],\n",
              "       [ 0.17097191, -1.63579564,  1.15081699,  0.49548549,  1.54883073,\n",
              "        -0.0125244 ],\n",
              "       ...,\n",
              "       [-0.83247843, -0.0479657 , -0.74200041, -0.06963516, -0.34974119,\n",
              "        -0.05165784],\n",
              "       [-0.94420626,  1.46047275, -0.34589934, -0.04514481, -0.39072397,\n",
              "        -0.01506921],\n",
              "       [-0.7022693 ,  1.38108125, -0.67384838,  0.1417133 , -0.27935772,\n",
              "        -0.09522915]])"
            ]
          },
          "metadata": {},
          "execution_count": 22
        }
      ]
    },
    {
      "cell_type": "code",
      "source": [
        "input_1 = keras.layers.Input(shape=[6])\n",
        "input_2 = keras.layers.Input(shape=[4])\n",
        "hidden_layer1= keras.layers.Dense(50, activation=\"relu\")(input_1)\n",
        "hidden_layer2 = keras.layers.Dense(25, activation=\"relu\")(hidden_layer1)\n",
        "concatenate_layer = keras.layers.Concatenate()([input_2, hidden_layer2])\n",
        "output= keras.layers.Dense(1)(concatenate_layer)\n",
        "model = keras.Model(inputs=[input_1, input_2], outputs=[output])"
      ],
      "metadata": {
        "id": "6g1xYiKuePM1"
      },
      "execution_count": 23,
      "outputs": []
    },
    {
      "cell_type": "code",
      "source": [
        "model.compile(loss= \"mean_squared_error\",\n",
        "              optimizer = \"sgd\",\n",
        "              metrics = [\"mean_absolute_error\"])"
      ],
      "metadata": {
        "id": "WG2LF-Ljq5CK"
      },
      "execution_count": 24,
      "outputs": []
    },
    {
      "cell_type": "code",
      "source": [
        "import tensorflow as tf\n",
        "history = model.fit((x_train_s_1, x_train_s_2), train_y1, epochs=50,\n",
        "                    validation_data=((x_validation_s_1, x_validation_s_2), validation_y))\n"
      ],
      "metadata": {
        "colab": {
          "base_uri": "https://localhost:8080/"
        },
        "id": "p7Z2e-qdrBtV",
        "outputId": "24eacf42-098d-4f1d-c76d-c7e288d38243"
      },
      "execution_count": 25,
      "outputs": [
        {
          "output_type": "stream",
          "name": "stdout",
          "text": [
            "Epoch 1/50\n",
            "\u001b[1m387/387\u001b[0m \u001b[32m━━━━━━━━━━━━━━━━━━━━\u001b[0m\u001b[37m\u001b[0m \u001b[1m1s\u001b[0m 2ms/step - loss: 1.5465 - mean_absolute_error: 0.7878 - val_loss: 3.0975 - val_mean_absolute_error: 0.9256\n",
            "Epoch 2/50\n",
            "\u001b[1m387/387\u001b[0m \u001b[32m━━━━━━━━━━━━━━━━━━━━\u001b[0m\u001b[37m\u001b[0m \u001b[1m1s\u001b[0m 2ms/step - loss: 161100.5781 - mean_absolute_error: 11.1191 - val_loss: 4.5902 - val_mean_absolute_error: 0.9530\n",
            "Epoch 3/50\n",
            "\u001b[1m387/387\u001b[0m \u001b[32m━━━━━━━━━━━━━━━━━━━━\u001b[0m\u001b[37m\u001b[0m \u001b[1m1s\u001b[0m 2ms/step - loss: 1.0895 - mean_absolute_error: 0.8103 - val_loss: 0.9998 - val_mean_absolute_error: 0.7695\n",
            "Epoch 4/50\n",
            "\u001b[1m387/387\u001b[0m \u001b[32m━━━━━━━━━━━━━━━━━━━━\u001b[0m\u001b[37m\u001b[0m \u001b[1m1s\u001b[0m 2ms/step - loss: 1.0415 - mean_absolute_error: 0.7860 - val_loss: 0.9493 - val_mean_absolute_error: 0.7509\n",
            "Epoch 5/50\n",
            "\u001b[1m387/387\u001b[0m \u001b[32m━━━━━━━━━━━━━━━━━━━━\u001b[0m\u001b[37m\u001b[0m \u001b[1m1s\u001b[0m 2ms/step - loss: 1.0219 - mean_absolute_error: 0.7781 - val_loss: 0.9741 - val_mean_absolute_error: 0.7682\n",
            "Epoch 6/50\n",
            "\u001b[1m387/387\u001b[0m \u001b[32m━━━━━━━━━━━━━━━━━━━━\u001b[0m\u001b[37m\u001b[0m \u001b[1m1s\u001b[0m 2ms/step - loss: 1.0015 - mean_absolute_error: 0.7699 - val_loss: 0.9624 - val_mean_absolute_error: 0.7580\n",
            "Epoch 7/50\n",
            "\u001b[1m387/387\u001b[0m \u001b[32m━━━━━━━━━━━━━━━━━━━━\u001b[0m\u001b[37m\u001b[0m \u001b[1m1s\u001b[0m 2ms/step - loss: 1.0202 - mean_absolute_error: 0.7808 - val_loss: 0.9147 - val_mean_absolute_error: 0.7305\n",
            "Epoch 8/50\n",
            "\u001b[1m387/387\u001b[0m \u001b[32m━━━━━━━━━━━━━━━━━━━━\u001b[0m\u001b[37m\u001b[0m \u001b[1m2s\u001b[0m 3ms/step - loss: 1.1764 - mean_absolute_error: 0.7897 - val_loss: 0.9778 - val_mean_absolute_error: 0.7695\n",
            "Epoch 9/50\n",
            "\u001b[1m387/387\u001b[0m \u001b[32m━━━━━━━━━━━━━━━━━━━━\u001b[0m\u001b[37m\u001b[0m \u001b[1m1s\u001b[0m 3ms/step - loss: 1.0199 - mean_absolute_error: 0.7842 - val_loss: 0.9755 - val_mean_absolute_error: 0.7633\n",
            "Epoch 10/50\n",
            "\u001b[1m387/387\u001b[0m \u001b[32m━━━━━━━━━━━━━━━━━━━━\u001b[0m\u001b[37m\u001b[0m \u001b[1m2s\u001b[0m 2ms/step - loss: 1.0501 - mean_absolute_error: 0.7933 - val_loss: 0.9633 - val_mean_absolute_error: 0.7599\n",
            "Epoch 11/50\n",
            "\u001b[1m387/387\u001b[0m \u001b[32m━━━━━━━━━━━━━━━━━━━━\u001b[0m\u001b[37m\u001b[0m \u001b[1m1s\u001b[0m 2ms/step - loss: 1.0160 - mean_absolute_error: 0.7784 - val_loss: 0.9803 - val_mean_absolute_error: 0.7688\n",
            "Epoch 12/50\n",
            "\u001b[1m387/387\u001b[0m \u001b[32m━━━━━━━━━━━━━━━━━━━━\u001b[0m\u001b[37m\u001b[0m \u001b[1m1s\u001b[0m 2ms/step - loss: 1.0283 - mean_absolute_error: 0.7832 - val_loss: 0.9154 - val_mean_absolute_error: 0.7365\n",
            "Epoch 13/50\n",
            "\u001b[1m387/387\u001b[0m \u001b[32m━━━━━━━━━━━━━━━━━━━━\u001b[0m\u001b[37m\u001b[0m \u001b[1m1s\u001b[0m 2ms/step - loss: 1.0546 - mean_absolute_error: 0.7870 - val_loss: 0.9761 - val_mean_absolute_error: 0.7652\n",
            "Epoch 14/50\n",
            "\u001b[1m387/387\u001b[0m \u001b[32m━━━━━━━━━━━━━━━━━━━━\u001b[0m\u001b[37m\u001b[0m \u001b[1m1s\u001b[0m 2ms/step - loss: 1.0123 - mean_absolute_error: 0.7771 - val_loss: 0.9972 - val_mean_absolute_error: 0.7717\n",
            "Epoch 15/50\n",
            "\u001b[1m387/387\u001b[0m \u001b[32m━━━━━━━━━━━━━━━━━━━━\u001b[0m\u001b[37m\u001b[0m \u001b[1m1s\u001b[0m 2ms/step - loss: 1.0081 - mean_absolute_error: 0.7755 - val_loss: 1.1011 - val_mean_absolute_error: 0.8073\n",
            "Epoch 16/50\n",
            "\u001b[1m387/387\u001b[0m \u001b[32m━━━━━━━━━━━━━━━━━━━━\u001b[0m\u001b[37m\u001b[0m \u001b[1m1s\u001b[0m 2ms/step - loss: 1.0396 - mean_absolute_error: 0.7847 - val_loss: 0.9412 - val_mean_absolute_error: 0.7455\n",
            "Epoch 17/50\n",
            "\u001b[1m387/387\u001b[0m \u001b[32m━━━━━━━━━━━━━━━━━━━━\u001b[0m\u001b[37m\u001b[0m \u001b[1m2s\u001b[0m 3ms/step - loss: 1.0592 - mean_absolute_error: 0.7943 - val_loss: 0.9636 - val_mean_absolute_error: 0.7567\n",
            "Epoch 18/50\n",
            "\u001b[1m387/387\u001b[0m \u001b[32m━━━━━━━━━━━━━━━━━━━━\u001b[0m\u001b[37m\u001b[0m \u001b[1m1s\u001b[0m 3ms/step - loss: 1.0396 - mean_absolute_error: 0.7922 - val_loss: 0.9627 - val_mean_absolute_error: 0.7601\n",
            "Epoch 19/50\n",
            "\u001b[1m387/387\u001b[0m \u001b[32m━━━━━━━━━━━━━━━━━━━━\u001b[0m\u001b[37m\u001b[0m \u001b[1m1s\u001b[0m 4ms/step - loss: 0.9921 - mean_absolute_error: 0.7672 - val_loss: 0.9659 - val_mean_absolute_error: 0.7624\n",
            "Epoch 20/50\n",
            "\u001b[1m387/387\u001b[0m \u001b[32m━━━━━━━━━━━━━━━━━━━━\u001b[0m\u001b[37m\u001b[0m \u001b[1m2s\u001b[0m 2ms/step - loss: 0.9886 - mean_absolute_error: 0.7651 - val_loss: 0.9646 - val_mean_absolute_error: 0.7671\n",
            "Epoch 21/50\n",
            "\u001b[1m387/387\u001b[0m \u001b[32m━━━━━━━━━━━━━━━━━━━━\u001b[0m\u001b[37m\u001b[0m \u001b[1m1s\u001b[0m 2ms/step - loss: 1.0432 - mean_absolute_error: 0.7940 - val_loss: 0.9752 - val_mean_absolute_error: 0.7644\n",
            "Epoch 22/50\n",
            "\u001b[1m387/387\u001b[0m \u001b[32m━━━━━━━━━━━━━━━━━━━━\u001b[0m\u001b[37m\u001b[0m \u001b[1m1s\u001b[0m 2ms/step - loss: 1.0130 - mean_absolute_error: 0.7759 - val_loss: 0.9628 - val_mean_absolute_error: 0.7643\n",
            "Epoch 23/50\n",
            "\u001b[1m387/387\u001b[0m \u001b[32m━━━━━━━━━━━━━━━━━━━━\u001b[0m\u001b[37m\u001b[0m \u001b[1m1s\u001b[0m 2ms/step - loss: 1.0381 - mean_absolute_error: 0.7898 - val_loss: 0.9828 - val_mean_absolute_error: 0.7665\n",
            "Epoch 24/50\n",
            "\u001b[1m387/387\u001b[0m \u001b[32m━━━━━━━━━━━━━━━━━━━━\u001b[0m\u001b[37m\u001b[0m \u001b[1m1s\u001b[0m 2ms/step - loss: 1.0139 - mean_absolute_error: 0.7762 - val_loss: 1.0063 - val_mean_absolute_error: 0.7791\n",
            "Epoch 25/50\n",
            "\u001b[1m387/387\u001b[0m \u001b[32m━━━━━━━━━━━━━━━━━━━━\u001b[0m\u001b[37m\u001b[0m \u001b[1m1s\u001b[0m 2ms/step - loss: 1.0128 - mean_absolute_error: 0.7776 - val_loss: 0.9231 - val_mean_absolute_error: 0.7377\n",
            "Epoch 26/50\n",
            "\u001b[1m387/387\u001b[0m \u001b[32m━━━━━━━━━━━━━━━━━━━━\u001b[0m\u001b[37m\u001b[0m \u001b[1m1s\u001b[0m 2ms/step - loss: 1.1543 - mean_absolute_error: 0.7932 - val_loss: 0.9793 - val_mean_absolute_error: 0.7679\n",
            "Epoch 27/50\n",
            "\u001b[1m387/387\u001b[0m \u001b[32m━━━━━━━━━━━━━━━━━━━━\u001b[0m\u001b[37m\u001b[0m \u001b[1m1s\u001b[0m 3ms/step - loss: 1.0241 - mean_absolute_error: 0.7815 - val_loss: 0.9997 - val_mean_absolute_error: 0.7765\n",
            "Epoch 28/50\n",
            "\u001b[1m387/387\u001b[0m \u001b[32m━━━━━━━━━━━━━━━━━━━━\u001b[0m\u001b[37m\u001b[0m \u001b[1m2s\u001b[0m 2ms/step - loss: 1.0307 - mean_absolute_error: 0.7887 - val_loss: 0.9910 - val_mean_absolute_error: 0.7690\n",
            "Epoch 29/50\n",
            "\u001b[1m387/387\u001b[0m \u001b[32m━━━━━━━━━━━━━━━━━━━━\u001b[0m\u001b[37m\u001b[0m \u001b[1m1s\u001b[0m 2ms/step - loss: 1.0222 - mean_absolute_error: 0.7795 - val_loss: 0.9831 - val_mean_absolute_error: 0.7703\n",
            "Epoch 30/50\n",
            "\u001b[1m387/387\u001b[0m \u001b[32m━━━━━━━━━━━━━━━━━━━━\u001b[0m\u001b[37m\u001b[0m \u001b[1m1s\u001b[0m 2ms/step - loss: 1.0454 - mean_absolute_error: 0.7937 - val_loss: 0.9242 - val_mean_absolute_error: 0.7382\n",
            "Epoch 31/50\n",
            "\u001b[1m387/387\u001b[0m \u001b[32m━━━━━━━━━━━━━━━━━━━━\u001b[0m\u001b[37m\u001b[0m \u001b[1m1s\u001b[0m 2ms/step - loss: 1.0187 - mean_absolute_error: 0.7722 - val_loss: 0.9497 - val_mean_absolute_error: 0.7561\n",
            "Epoch 32/50\n",
            "\u001b[1m387/387\u001b[0m \u001b[32m━━━━━━━━━━━━━━━━━━━━\u001b[0m\u001b[37m\u001b[0m \u001b[1m1s\u001b[0m 2ms/step - loss: 1.0283 - mean_absolute_error: 0.7857 - val_loss: 0.9142 - val_mean_absolute_error: 0.7274\n",
            "Epoch 33/50\n",
            "\u001b[1m387/387\u001b[0m \u001b[32m━━━━━━━━━━━━━━━━━━━━\u001b[0m\u001b[37m\u001b[0m \u001b[1m1s\u001b[0m 2ms/step - loss: 1.5617 - mean_absolute_error: 0.7947 - val_loss: 0.9737 - val_mean_absolute_error: 0.7765\n",
            "Epoch 34/50\n",
            "\u001b[1m387/387\u001b[0m \u001b[32m━━━━━━━━━━━━━━━━━━━━\u001b[0m\u001b[37m\u001b[0m \u001b[1m1s\u001b[0m 2ms/step - loss: 1.0056 - mean_absolute_error: 0.7755 - val_loss: 0.9884 - val_mean_absolute_error: 0.7738\n",
            "Epoch 35/50\n",
            "\u001b[1m387/387\u001b[0m \u001b[32m━━━━━━━━━━━━━━━━━━━━\u001b[0m\u001b[37m\u001b[0m \u001b[1m1s\u001b[0m 2ms/step - loss: 1.0367 - mean_absolute_error: 0.7866 - val_loss: 1.0157 - val_mean_absolute_error: 0.7822\n",
            "Epoch 36/50\n",
            "\u001b[1m387/387\u001b[0m \u001b[32m━━━━━━━━━━━━━━━━━━━━\u001b[0m\u001b[37m\u001b[0m \u001b[1m2s\u001b[0m 3ms/step - loss: 1.0127 - mean_absolute_error: 0.7781 - val_loss: 0.9909 - val_mean_absolute_error: 0.7743\n",
            "Epoch 37/50\n",
            "\u001b[1m387/387\u001b[0m \u001b[32m━━━━━━━━━━━━━━━━━━━━\u001b[0m\u001b[37m\u001b[0m \u001b[1m2s\u001b[0m 2ms/step - loss: 1.0136 - mean_absolute_error: 0.7751 - val_loss: 0.9875 - val_mean_absolute_error: 0.7733\n",
            "Epoch 38/50\n",
            "\u001b[1m387/387\u001b[0m \u001b[32m━━━━━━━━━━━━━━━━━━━━\u001b[0m\u001b[37m\u001b[0m \u001b[1m1s\u001b[0m 2ms/step - loss: 1.0108 - mean_absolute_error: 0.7787 - val_loss: 0.9966 - val_mean_absolute_error: 0.7683\n",
            "Epoch 39/50\n",
            "\u001b[1m387/387\u001b[0m \u001b[32m━━━━━━━━━━━━━━━━━━━━\u001b[0m\u001b[37m\u001b[0m \u001b[1m1s\u001b[0m 2ms/step - loss: 1.0037 - mean_absolute_error: 0.7704 - val_loss: 0.9845 - val_mean_absolute_error: 0.7678\n",
            "Epoch 40/50\n",
            "\u001b[1m387/387\u001b[0m \u001b[32m━━━━━━━━━━━━━━━━━━━━\u001b[0m\u001b[37m\u001b[0m \u001b[1m1s\u001b[0m 2ms/step - loss: 1.0097 - mean_absolute_error: 0.7751 - val_loss: 1.0048 - val_mean_absolute_error: 0.7790\n",
            "Epoch 41/50\n",
            "\u001b[1m387/387\u001b[0m \u001b[32m━━━━━━━━━━━━━━━━━━━━\u001b[0m\u001b[37m\u001b[0m \u001b[1m1s\u001b[0m 2ms/step - loss: 1.0064 - mean_absolute_error: 0.7759 - val_loss: 1.0238 - val_mean_absolute_error: 0.7759\n",
            "Epoch 42/50\n",
            "\u001b[1m387/387\u001b[0m \u001b[32m━━━━━━━━━━━━━━━━━━━━\u001b[0m\u001b[37m\u001b[0m \u001b[1m1s\u001b[0m 2ms/step - loss: 1.0245 - mean_absolute_error: 0.7778 - val_loss: 0.9932 - val_mean_absolute_error: 0.7748\n",
            "Epoch 43/50\n",
            "\u001b[1m387/387\u001b[0m \u001b[32m━━━━━━━━━━━━━━━━━━━━\u001b[0m\u001b[37m\u001b[0m \u001b[1m1s\u001b[0m 2ms/step - loss: 1.0220 - mean_absolute_error: 0.7818 - val_loss: 0.9712 - val_mean_absolute_error: 0.7680\n",
            "Epoch 44/50\n",
            "\u001b[1m387/387\u001b[0m \u001b[32m━━━━━━━━━━━━━━━━━━━━\u001b[0m\u001b[37m\u001b[0m \u001b[1m1s\u001b[0m 2ms/step - loss: 1.0312 - mean_absolute_error: 0.7856 - val_loss: 0.9774 - val_mean_absolute_error: 0.7604\n",
            "Epoch 45/50\n",
            "\u001b[1m387/387\u001b[0m \u001b[32m━━━━━━━━━━━━━━━━━━━━\u001b[0m\u001b[37m\u001b[0m \u001b[1m1s\u001b[0m 3ms/step - loss: 1.0358 - mean_absolute_error: 0.7839 - val_loss: 0.9561 - val_mean_absolute_error: 0.7575\n",
            "Epoch 46/50\n",
            "\u001b[1m387/387\u001b[0m \u001b[32m━━━━━━━━━━━━━━━━━━━━\u001b[0m\u001b[37m\u001b[0m \u001b[1m1s\u001b[0m 3ms/step - loss: 0.9885 - mean_absolute_error: 0.7635 - val_loss: 0.9498 - val_mean_absolute_error: 0.7644\n",
            "Epoch 47/50\n",
            "\u001b[1m387/387\u001b[0m \u001b[32m━━━━━━━━━━━━━━━━━━━━\u001b[0m\u001b[37m\u001b[0m \u001b[1m2s\u001b[0m 2ms/step - loss: 1.0619 - mean_absolute_error: 0.7831 - val_loss: 0.9711 - val_mean_absolute_error: 0.7692\n",
            "Epoch 48/50\n",
            "\u001b[1m387/387\u001b[0m \u001b[32m━━━━━━━━━━━━━━━━━━━━\u001b[0m\u001b[37m\u001b[0m \u001b[1m1s\u001b[0m 2ms/step - loss: 1.0252 - mean_absolute_error: 0.7880 - val_loss: 1.0051 - val_mean_absolute_error: 0.7834\n",
            "Epoch 49/50\n",
            "\u001b[1m387/387\u001b[0m \u001b[32m━━━━━━━━━━━━━━━━━━━━\u001b[0m\u001b[37m\u001b[0m \u001b[1m1s\u001b[0m 2ms/step - loss: 1.0137 - mean_absolute_error: 0.7777 - val_loss: 0.9954 - val_mean_absolute_error: 0.7767\n",
            "Epoch 50/50\n",
            "\u001b[1m387/387\u001b[0m \u001b[32m━━━━━━━━━━━━━━━━━━━━\u001b[0m\u001b[37m\u001b[0m \u001b[1m1s\u001b[0m 2ms/step - loss: 1.0268 - mean_absolute_error: 0.7881 - val_loss: 0.9467 - val_mean_absolute_error: 0.7575\n"
          ]
        }
      ]
    },
    {
      "cell_type": "markdown",
      "source": [
        "Two outputs"
      ],
      "metadata": {
        "id": "pFwpR6-q1xux"
      }
    },
    {
      "cell_type": "code",
      "source": [
        "input_1 = keras.layers.Input(shape=[6])\n",
        "input_2 = keras.layers.Input(shape=[4])\n",
        "hidden_layer1= keras.layers.Dense(50, activation=\"relu\")(input_1)\n",
        "hidden_layer2 = keras.layers.Dense(25, activation=\"relu\")(hidden_layer1)\n",
        "concatenate_layer = keras.layers.Concatenate()([input_2, hidden_layer2])\n",
        "output = keras.layers.Dense(1)(concatenate_layer)\n",
        "helper_output = keras.layers.Dense(1, name=\"helper_output\")(hidden_layer2)\n",
        "model = keras.Model(inputs=[input_1, input_2], outputs=[output, helper_output])"
      ],
      "metadata": {
        "id": "2Fk2x4-Tx8yS"
      },
      "execution_count": 36,
      "outputs": []
    },
    {
      "cell_type": "code",
      "source": [
        "model.compile(\n",
        "    loss=[\"mse\", \"mse\"],\n",
        "    loss_weights=[0.8, 0.2],\n",
        "    optimizer=\"sgd\",\n",
        "    metrics=[[\"mean_absolute_error\"], [\"mean_absolute_error\"]]\n",
        ")"
      ],
      "metadata": {
        "id": "qzPUNrZKyhA9"
      },
      "execution_count": 37,
      "outputs": []
    },
    {
      "cell_type": "code",
      "source": [
        "history = model.fit(\n",
        "    (x_train_s_1, x_train_s_2),\n",
        "    (train_y1, train_y1),\n",
        "    epochs=50,\n",
        "    validation_data=(\n",
        "        (x_validation_s_1, x_validation_s_2),\n",
        "        (validation_y, validation_y)\n",
        "    )\n",
        ")"
      ],
      "metadata": {
        "colab": {
          "base_uri": "https://localhost:8080/"
        },
        "id": "h5m1UpXy0DMK",
        "outputId": "2f546e89-2341-4f02-df06-d82bc134b111"
      },
      "execution_count": 38,
      "outputs": [
        {
          "output_type": "stream",
          "name": "stdout",
          "text": [
            "Epoch 1/50\n",
            "\u001b[1m387/387\u001b[0m \u001b[32m━━━━━━━━━━━━━━━━━━━━\u001b[0m\u001b[37m\u001b[0m \u001b[1m2s\u001b[0m 3ms/step - dense_20_mean_absolute_error: 0.8588 - helper_output_mean_absolute_error: 0.9441 - loss: 1.5596 - val_dense_20_mean_absolute_error: 0.5456 - val_helper_output_mean_absolute_error: 0.5901 - val_loss: 0.6654\n",
            "Epoch 2/50\n",
            "\u001b[1m387/387\u001b[0m \u001b[32m━━━━━━━━━━━━━━━━━━━━\u001b[0m\u001b[37m\u001b[0m \u001b[1m1s\u001b[0m 2ms/step - dense_20_mean_absolute_error: 0.5706 - helper_output_mean_absolute_error: 0.5797 - loss: 1.7371 - val_dense_20_mean_absolute_error: 0.5325 - val_helper_output_mean_absolute_error: 0.5568 - val_loss: 0.7015\n",
            "Epoch 3/50\n",
            "\u001b[1m387/387\u001b[0m \u001b[32m━━━━━━━━━━━━━━━━━━━━\u001b[0m\u001b[37m\u001b[0m \u001b[1m1s\u001b[0m 2ms/step - dense_20_mean_absolute_error: 0.5492 - helper_output_mean_absolute_error: 0.5440 - loss: 1.7695 - val_dense_20_mean_absolute_error: 0.4942 - val_helper_output_mean_absolute_error: 0.5340 - val_loss: 0.5275\n",
            "Epoch 4/50\n",
            "\u001b[1m387/387\u001b[0m \u001b[32m━━━━━━━━━━━━━━━━━━━━\u001b[0m\u001b[37m\u001b[0m \u001b[1m1s\u001b[0m 3ms/step - dense_20_mean_absolute_error: 0.4873 - helper_output_mean_absolute_error: 0.5301 - loss: 0.5445 - val_dense_20_mean_absolute_error: 0.4796 - val_helper_output_mean_absolute_error: 0.5274 - val_loss: 0.4702\n",
            "Epoch 5/50\n",
            "\u001b[1m387/387\u001b[0m \u001b[32m━━━━━━━━━━━━━━━━━━━━\u001b[0m\u001b[37m\u001b[0m \u001b[1m2s\u001b[0m 2ms/step - dense_20_mean_absolute_error: 0.4752 - helper_output_mean_absolute_error: 0.5148 - loss: 0.5035 - val_dense_20_mean_absolute_error: 0.4758 - val_helper_output_mean_absolute_error: 0.5262 - val_loss: 0.4494\n",
            "Epoch 6/50\n",
            "\u001b[1m387/387\u001b[0m \u001b[32m━━━━━━━━━━━━━━━━━━━━\u001b[0m\u001b[37m\u001b[0m \u001b[1m1s\u001b[0m 2ms/step - dense_20_mean_absolute_error: 0.4597 - helper_output_mean_absolute_error: 0.5122 - loss: 0.4176 - val_dense_20_mean_absolute_error: 0.4549 - val_helper_output_mean_absolute_error: 0.5109 - val_loss: 0.4257\n",
            "Epoch 7/50\n",
            "\u001b[1m387/387\u001b[0m \u001b[32m━━━━━━━━━━━━━━━━━━━━\u001b[0m\u001b[37m\u001b[0m \u001b[1m1s\u001b[0m 2ms/step - dense_20_mean_absolute_error: 0.4455 - helper_output_mean_absolute_error: 0.5030 - loss: 0.3965 - val_dense_20_mean_absolute_error: 0.4624 - val_helper_output_mean_absolute_error: 0.5205 - val_loss: 0.4955\n",
            "Epoch 8/50\n",
            "\u001b[1m387/387\u001b[0m \u001b[32m━━━━━━━━━━━━━━━━━━━━\u001b[0m\u001b[37m\u001b[0m \u001b[1m1s\u001b[0m 2ms/step - dense_20_mean_absolute_error: 0.4514 - helper_output_mean_absolute_error: 0.5081 - loss: 0.4135 - val_dense_20_mean_absolute_error: 0.4548 - val_helper_output_mean_absolute_error: 0.5069 - val_loss: 0.4213\n",
            "Epoch 9/50\n",
            "\u001b[1m387/387\u001b[0m \u001b[32m━━━━━━━━━━━━━━━━━━━━\u001b[0m\u001b[37m\u001b[0m \u001b[1m1s\u001b[0m 2ms/step - dense_20_mean_absolute_error: 0.4499 - helper_output_mean_absolute_error: 0.5034 - loss: 0.4009 - val_dense_20_mean_absolute_error: 0.4435 - val_helper_output_mean_absolute_error: 0.4992 - val_loss: 0.4148\n",
            "Epoch 10/50\n",
            "\u001b[1m387/387\u001b[0m \u001b[32m━━━━━━━━━━━━━━━━━━━━\u001b[0m\u001b[37m\u001b[0m \u001b[1m1s\u001b[0m 2ms/step - dense_20_mean_absolute_error: 0.4408 - helper_output_mean_absolute_error: 0.4919 - loss: 0.4297 - val_dense_20_mean_absolute_error: 0.4482 - val_helper_output_mean_absolute_error: 0.5031 - val_loss: 0.4038\n",
            "Epoch 11/50\n",
            "\u001b[1m387/387\u001b[0m \u001b[32m━━━━━━━━━━━━━━━━━━━━\u001b[0m\u001b[37m\u001b[0m \u001b[1m1s\u001b[0m 2ms/step - dense_20_mean_absolute_error: 0.4414 - helper_output_mean_absolute_error: 0.5006 - loss: 0.3886 - val_dense_20_mean_absolute_error: 0.4400 - val_helper_output_mean_absolute_error: 0.4954 - val_loss: 0.4062\n",
            "Epoch 12/50\n",
            "\u001b[1m387/387\u001b[0m \u001b[32m━━━━━━━━━━━━━━━━━━━━\u001b[0m\u001b[37m\u001b[0m \u001b[1m1s\u001b[0m 2ms/step - dense_20_mean_absolute_error: 0.4337 - helper_output_mean_absolute_error: 0.4900 - loss: 0.3799 - val_dense_20_mean_absolute_error: 0.4484 - val_helper_output_mean_absolute_error: 0.5016 - val_loss: 0.4263\n",
            "Epoch 13/50\n",
            "\u001b[1m387/387\u001b[0m \u001b[32m━━━━━━━━━━━━━━━━━━━━\u001b[0m\u001b[37m\u001b[0m \u001b[1m2s\u001b[0m 4ms/step - dense_20_mean_absolute_error: 0.4289 - helper_output_mean_absolute_error: 0.4802 - loss: 0.3746 - val_dense_20_mean_absolute_error: 0.4408 - val_helper_output_mean_absolute_error: 0.4926 - val_loss: 0.4160\n",
            "Epoch 14/50\n",
            "\u001b[1m387/387\u001b[0m \u001b[32m━━━━━━━━━━━━━━━━━━━━\u001b[0m\u001b[37m\u001b[0m \u001b[1m2s\u001b[0m 2ms/step - dense_20_mean_absolute_error: 0.4364 - helper_output_mean_absolute_error: 0.4872 - loss: 0.4095 - val_dense_20_mean_absolute_error: 0.4390 - val_helper_output_mean_absolute_error: 0.4914 - val_loss: 0.3981\n",
            "Epoch 15/50\n",
            "\u001b[1m387/387\u001b[0m \u001b[32m━━━━━━━━━━━━━━━━━━━━\u001b[0m\u001b[37m\u001b[0m \u001b[1m1s\u001b[0m 2ms/step - dense_20_mean_absolute_error: 0.4307 - helper_output_mean_absolute_error: 0.4839 - loss: 0.3719 - val_dense_20_mean_absolute_error: 0.4344 - val_helper_output_mean_absolute_error: 0.4870 - val_loss: 0.3948\n",
            "Epoch 16/50\n",
            "\u001b[1m387/387\u001b[0m \u001b[32m━━━━━━━━━━━━━━━━━━━━\u001b[0m\u001b[37m\u001b[0m \u001b[1m1s\u001b[0m 2ms/step - dense_20_mean_absolute_error: 0.4281 - helper_output_mean_absolute_error: 0.4802 - loss: 0.3757 - val_dense_20_mean_absolute_error: 0.4324 - val_helper_output_mean_absolute_error: 0.4926 - val_loss: 0.3872\n",
            "Epoch 17/50\n",
            "\u001b[1m387/387\u001b[0m \u001b[32m━━━━━━━━━━━━━━━━━━━━\u001b[0m\u001b[37m\u001b[0m \u001b[1m1s\u001b[0m 2ms/step - dense_20_mean_absolute_error: 0.4285 - helper_output_mean_absolute_error: 0.4871 - loss: 0.3776 - val_dense_20_mean_absolute_error: 0.4468 - val_helper_output_mean_absolute_error: 0.4936 - val_loss: 0.3925\n",
            "Epoch 18/50\n",
            "\u001b[1m387/387\u001b[0m \u001b[32m━━━━━━━━━━━━━━━━━━━━\u001b[0m\u001b[37m\u001b[0m \u001b[1m1s\u001b[0m 2ms/step - dense_20_mean_absolute_error: 0.4302 - helper_output_mean_absolute_error: 0.4821 - loss: 0.3800 - val_dense_20_mean_absolute_error: 0.4363 - val_helper_output_mean_absolute_error: 0.4905 - val_loss: 0.3961\n",
            "Epoch 19/50\n",
            "\u001b[1m387/387\u001b[0m \u001b[32m━━━━━━━━━━━━━━━━━━━━\u001b[0m\u001b[37m\u001b[0m \u001b[1m1s\u001b[0m 2ms/step - dense_20_mean_absolute_error: 0.4302 - helper_output_mean_absolute_error: 0.4789 - loss: 0.3663 - val_dense_20_mean_absolute_error: 0.4389 - val_helper_output_mean_absolute_error: 0.4934 - val_loss: 0.3875\n",
            "Epoch 20/50\n",
            "\u001b[1m387/387\u001b[0m \u001b[32m━━━━━━━━━━━━━━━━━━━━\u001b[0m\u001b[37m\u001b[0m \u001b[1m1s\u001b[0m 2ms/step - dense_20_mean_absolute_error: 0.4327 - helper_output_mean_absolute_error: 0.4868 - loss: 0.3859 - val_dense_20_mean_absolute_error: 0.4290 - val_helper_output_mean_absolute_error: 0.4802 - val_loss: 0.4008\n",
            "Epoch 21/50\n",
            "\u001b[1m387/387\u001b[0m \u001b[32m━━━━━━━━━━━━━━━━━━━━\u001b[0m\u001b[37m\u001b[0m \u001b[1m1s\u001b[0m 2ms/step - dense_20_mean_absolute_error: 0.4275 - helper_output_mean_absolute_error: 0.4773 - loss: 0.4574 - val_dense_20_mean_absolute_error: 0.4501 - val_helper_output_mean_absolute_error: 0.5011 - val_loss: 0.3943\n",
            "Epoch 22/50\n",
            "\u001b[1m387/387\u001b[0m \u001b[32m━━━━━━━━━━━━━━━━━━━━\u001b[0m\u001b[37m\u001b[0m \u001b[1m1s\u001b[0m 2ms/step - dense_20_mean_absolute_error: 0.4219 - helper_output_mean_absolute_error: 0.4715 - loss: 0.3602 - val_dense_20_mean_absolute_error: 0.4281 - val_helper_output_mean_absolute_error: 0.4794 - val_loss: 0.3906\n",
            "Epoch 23/50\n",
            "\u001b[1m387/387\u001b[0m \u001b[32m━━━━━━━━━━━━━━━━━━━━\u001b[0m\u001b[37m\u001b[0m \u001b[1m2s\u001b[0m 3ms/step - dense_20_mean_absolute_error: 0.4291 - helper_output_mean_absolute_error: 0.4772 - loss: 0.3692 - val_dense_20_mean_absolute_error: 0.4307 - val_helper_output_mean_absolute_error: 0.4836 - val_loss: 0.3821\n",
            "Epoch 24/50\n",
            "\u001b[1m387/387\u001b[0m \u001b[32m━━━━━━━━━━━━━━━━━━━━\u001b[0m\u001b[37m\u001b[0m \u001b[1m1s\u001b[0m 4ms/step - dense_20_mean_absolute_error: 0.4215 - helper_output_mean_absolute_error: 0.4758 - loss: 0.3613 - val_dense_20_mean_absolute_error: 0.4260 - val_helper_output_mean_absolute_error: 0.4807 - val_loss: 0.3779\n",
            "Epoch 25/50\n",
            "\u001b[1m387/387\u001b[0m \u001b[32m━━━━━━━━━━━━━━━━━━━━\u001b[0m\u001b[37m\u001b[0m \u001b[1m2s\u001b[0m 2ms/step - dense_20_mean_absolute_error: 0.4289 - helper_output_mean_absolute_error: 0.4815 - loss: 0.3746 - val_dense_20_mean_absolute_error: 0.4268 - val_helper_output_mean_absolute_error: 0.4804 - val_loss: 0.3782\n",
            "Epoch 26/50\n",
            "\u001b[1m387/387\u001b[0m \u001b[32m━━━━━━━━━━━━━━━━━━━━\u001b[0m\u001b[37m\u001b[0m \u001b[1m1s\u001b[0m 2ms/step - dense_20_mean_absolute_error: 0.4172 - helper_output_mean_absolute_error: 0.4678 - loss: 0.3521 - val_dense_20_mean_absolute_error: 0.4310 - val_helper_output_mean_absolute_error: 0.4871 - val_loss: 0.3805\n",
            "Epoch 27/50\n",
            "\u001b[1m387/387\u001b[0m \u001b[32m━━━━━━━━━━━━━━━━━━━━\u001b[0m\u001b[37m\u001b[0m \u001b[1m1s\u001b[0m 2ms/step - dense_20_mean_absolute_error: 0.4169 - helper_output_mean_absolute_error: 0.4714 - loss: 0.3530 - val_dense_20_mean_absolute_error: 0.4279 - val_helper_output_mean_absolute_error: 0.4801 - val_loss: 0.3788\n",
            "Epoch 28/50\n",
            "\u001b[1m387/387\u001b[0m \u001b[32m━━━━━━━━━━━━━━━━━━━━\u001b[0m\u001b[37m\u001b[0m \u001b[1m1s\u001b[0m 2ms/step - dense_20_mean_absolute_error: 0.4192 - helper_output_mean_absolute_error: 0.4672 - loss: 0.3580 - val_dense_20_mean_absolute_error: 0.4267 - val_helper_output_mean_absolute_error: 0.4755 - val_loss: 0.4048\n",
            "Epoch 29/50\n",
            "\u001b[1m387/387\u001b[0m \u001b[32m━━━━━━━━━━━━━━━━━━━━\u001b[0m\u001b[37m\u001b[0m \u001b[1m1s\u001b[0m 2ms/step - dense_20_mean_absolute_error: 0.4189 - helper_output_mean_absolute_error: 0.4676 - loss: 0.3621 - val_dense_20_mean_absolute_error: 0.4347 - val_helper_output_mean_absolute_error: 0.4843 - val_loss: 0.3846\n",
            "Epoch 30/50\n",
            "\u001b[1m387/387\u001b[0m \u001b[32m━━━━━━━━━━━━━━━━━━━━\u001b[0m\u001b[37m\u001b[0m \u001b[1m1s\u001b[0m 2ms/step - dense_20_mean_absolute_error: 0.4233 - helper_output_mean_absolute_error: 0.4714 - loss: 0.3652 - val_dense_20_mean_absolute_error: 0.4287 - val_helper_output_mean_absolute_error: 0.4798 - val_loss: 0.3792\n",
            "Epoch 31/50\n",
            "\u001b[1m387/387\u001b[0m \u001b[32m━━━━━━━━━━━━━━━━━━━━\u001b[0m\u001b[37m\u001b[0m \u001b[1m1s\u001b[0m 2ms/step - dense_20_mean_absolute_error: 0.4255 - helper_output_mean_absolute_error: 0.4753 - loss: 0.3747 - val_dense_20_mean_absolute_error: 0.4219 - val_helper_output_mean_absolute_error: 0.4726 - val_loss: 0.3720\n",
            "Epoch 32/50\n",
            "\u001b[1m387/387\u001b[0m \u001b[32m━━━━━━━━━━━━━━━━━━━━\u001b[0m\u001b[37m\u001b[0m \u001b[1m1s\u001b[0m 2ms/step - dense_20_mean_absolute_error: 0.4181 - helper_output_mean_absolute_error: 0.4630 - loss: 0.3557 - val_dense_20_mean_absolute_error: 0.4396 - val_helper_output_mean_absolute_error: 0.4947 - val_loss: 0.3893\n",
            "Epoch 33/50\n",
            "\u001b[1m387/387\u001b[0m \u001b[32m━━━━━━━━━━━━━━━━━━━━\u001b[0m\u001b[37m\u001b[0m \u001b[1m2s\u001b[0m 4ms/step - dense_20_mean_absolute_error: 0.4204 - helper_output_mean_absolute_error: 0.4698 - loss: 0.3568 - val_dense_20_mean_absolute_error: 0.4272 - val_helper_output_mean_absolute_error: 0.4777 - val_loss: 0.3915\n",
            "Epoch 34/50\n",
            "\u001b[1m387/387\u001b[0m \u001b[32m━━━━━━━━━━━━━━━━━━━━\u001b[0m\u001b[37m\u001b[0m \u001b[1m2s\u001b[0m 2ms/step - dense_20_mean_absolute_error: 0.4192 - helper_output_mean_absolute_error: 0.4648 - loss: 0.3567 - val_dense_20_mean_absolute_error: 0.4295 - val_helper_output_mean_absolute_error: 0.4775 - val_loss: 0.3763\n",
            "Epoch 35/50\n",
            "\u001b[1m387/387\u001b[0m \u001b[32m━━━━━━━━━━━━━━━━━━━━\u001b[0m\u001b[37m\u001b[0m \u001b[1m1s\u001b[0m 2ms/step - dense_20_mean_absolute_error: 0.4214 - helper_output_mean_absolute_error: 0.4661 - loss: 0.3611 - val_dense_20_mean_absolute_error: 0.4278 - val_helper_output_mean_absolute_error: 0.4765 - val_loss: 0.3743\n",
            "Epoch 36/50\n",
            "\u001b[1m387/387\u001b[0m \u001b[32m━━━━━━━━━━━━━━━━━━━━\u001b[0m\u001b[37m\u001b[0m \u001b[1m1s\u001b[0m 2ms/step - dense_20_mean_absolute_error: 0.4177 - helper_output_mean_absolute_error: 0.4628 - loss: 0.3585 - val_dense_20_mean_absolute_error: 0.4270 - val_helper_output_mean_absolute_error: 0.4782 - val_loss: 0.3734\n",
            "Epoch 37/50\n",
            "\u001b[1m387/387\u001b[0m \u001b[32m━━━━━━━━━━━━━━━━━━━━\u001b[0m\u001b[37m\u001b[0m \u001b[1m1s\u001b[0m 2ms/step - dense_20_mean_absolute_error: 0.4298 - helper_output_mean_absolute_error: 0.4753 - loss: 0.3837 - val_dense_20_mean_absolute_error: 0.4236 - val_helper_output_mean_absolute_error: 0.4738 - val_loss: 0.3741\n",
            "Epoch 38/50\n",
            "\u001b[1m387/387\u001b[0m \u001b[32m━━━━━━━━━━━━━━━━━━━━\u001b[0m\u001b[37m\u001b[0m \u001b[1m1s\u001b[0m 2ms/step - dense_20_mean_absolute_error: 0.4238 - helper_output_mean_absolute_error: 0.4735 - loss: 0.3621 - val_dense_20_mean_absolute_error: 0.4215 - val_helper_output_mean_absolute_error: 0.4726 - val_loss: 0.3723\n",
            "Epoch 39/50\n",
            "\u001b[1m387/387\u001b[0m \u001b[32m━━━━━━━━━━━━━━━━━━━━\u001b[0m\u001b[37m\u001b[0m \u001b[1m1s\u001b[0m 2ms/step - dense_20_mean_absolute_error: 0.4178 - helper_output_mean_absolute_error: 0.4633 - loss: 0.3729 - val_dense_20_mean_absolute_error: 0.4229 - val_helper_output_mean_absolute_error: 0.4713 - val_loss: 0.3766\n",
            "Epoch 40/50\n",
            "\u001b[1m387/387\u001b[0m \u001b[32m━━━━━━━━━━━━━━━━━━━━\u001b[0m\u001b[37m\u001b[0m \u001b[1m1s\u001b[0m 2ms/step - dense_20_mean_absolute_error: 0.4139 - helper_output_mean_absolute_error: 0.4646 - loss: 0.3514 - val_dense_20_mean_absolute_error: 0.4257 - val_helper_output_mean_absolute_error: 0.4790 - val_loss: 0.3765\n",
            "Epoch 41/50\n",
            "\u001b[1m387/387\u001b[0m \u001b[32m━━━━━━━━━━━━━━━━━━━━\u001b[0m\u001b[37m\u001b[0m \u001b[1m1s\u001b[0m 2ms/step - dense_20_mean_absolute_error: 0.4224 - helper_output_mean_absolute_error: 0.4695 - loss: 0.3630 - val_dense_20_mean_absolute_error: 0.4231 - val_helper_output_mean_absolute_error: 0.4732 - val_loss: 0.3692\n",
            "Epoch 42/50\n",
            "\u001b[1m387/387\u001b[0m \u001b[32m━━━━━━━━━━━━━━━━━━━━\u001b[0m\u001b[37m\u001b[0m \u001b[1m2s\u001b[0m 4ms/step - dense_20_mean_absolute_error: 0.4117 - helper_output_mean_absolute_error: 0.4616 - loss: 0.3486 - val_dense_20_mean_absolute_error: 0.4215 - val_helper_output_mean_absolute_error: 0.4693 - val_loss: 0.3750\n",
            "Epoch 43/50\n",
            "\u001b[1m387/387\u001b[0m \u001b[32m━━━━━━━━━━━━━━━━━━━━\u001b[0m\u001b[37m\u001b[0m \u001b[1m2s\u001b[0m 2ms/step - dense_20_mean_absolute_error: 0.4096 - helper_output_mean_absolute_error: 0.4566 - loss: 0.3420 - val_dense_20_mean_absolute_error: 0.4486 - val_helper_output_mean_absolute_error: 0.4922 - val_loss: 0.3890\n",
            "Epoch 44/50\n",
            "\u001b[1m387/387\u001b[0m \u001b[32m━━━━━━━━━━━━━━━━━━━━\u001b[0m\u001b[37m\u001b[0m \u001b[1m1s\u001b[0m 2ms/step - dense_20_mean_absolute_error: 0.4204 - helper_output_mean_absolute_error: 0.4661 - loss: 0.3539 - val_dense_20_mean_absolute_error: 0.4202 - val_helper_output_mean_absolute_error: 0.4706 - val_loss: 0.3732\n",
            "Epoch 45/50\n",
            "\u001b[1m387/387\u001b[0m \u001b[32m━━━━━━━━━━━━━━━━━━━━\u001b[0m\u001b[37m\u001b[0m \u001b[1m1s\u001b[0m 3ms/step - dense_20_mean_absolute_error: 0.4098 - helper_output_mean_absolute_error: 0.4548 - loss: 0.3407 - val_dense_20_mean_absolute_error: 0.4205 - val_helper_output_mean_absolute_error: 0.4726 - val_loss: 0.3675\n",
            "Epoch 46/50\n",
            "\u001b[1m387/387\u001b[0m \u001b[32m━━━━━━━━━━━━━━━━━━━━\u001b[0m\u001b[37m\u001b[0m \u001b[1m1s\u001b[0m 2ms/step - dense_20_mean_absolute_error: 0.4103 - helper_output_mean_absolute_error: 0.4570 - loss: 0.3436 - val_dense_20_mean_absolute_error: 0.4207 - val_helper_output_mean_absolute_error: 0.4709 - val_loss: 0.3724\n",
            "Epoch 47/50\n",
            "\u001b[1m387/387\u001b[0m \u001b[32m━━━━━━━━━━━━━━━━━━━━\u001b[0m\u001b[37m\u001b[0m \u001b[1m1s\u001b[0m 2ms/step - dense_20_mean_absolute_error: 0.4194 - helper_output_mean_absolute_error: 0.4648 - loss: 0.3547 - val_dense_20_mean_absolute_error: 0.4373 - val_helper_output_mean_absolute_error: 0.4889 - val_loss: 0.3839\n",
            "Epoch 48/50\n",
            "\u001b[1m387/387\u001b[0m \u001b[32m━━━━━━━━━━━━━━━━━━━━\u001b[0m\u001b[37m\u001b[0m \u001b[1m1s\u001b[0m 2ms/step - dense_20_mean_absolute_error: 0.4126 - helper_output_mean_absolute_error: 0.4600 - loss: 0.3398 - val_dense_20_mean_absolute_error: 0.4208 - val_helper_output_mean_absolute_error: 0.4689 - val_loss: 0.3735\n",
            "Epoch 49/50\n",
            "\u001b[1m387/387\u001b[0m \u001b[32m━━━━━━━━━━━━━━━━━━━━\u001b[0m\u001b[37m\u001b[0m \u001b[1m1s\u001b[0m 2ms/step - dense_20_mean_absolute_error: 0.4116 - helper_output_mean_absolute_error: 0.4562 - loss: 0.3451 - val_dense_20_mean_absolute_error: 0.4207 - val_helper_output_mean_absolute_error: 0.4697 - val_loss: 0.3692\n",
            "Epoch 50/50\n",
            "\u001b[1m387/387\u001b[0m \u001b[32m━━━━━━━━━━━━━━━━━━━━\u001b[0m\u001b[37m\u001b[0m \u001b[1m1s\u001b[0m 2ms/step - dense_20_mean_absolute_error: 0.4115 - helper_output_mean_absolute_error: 0.4588 - loss: 0.3427 - val_dense_20_mean_absolute_error: 0.4227 - val_helper_output_mean_absolute_error: 0.4693 - val_loss: 0.3722\n"
          ]
        }
      ]
    },
    {
      "cell_type": "code",
      "source": [],
      "metadata": {
        "id": "No1FIxet1upg"
      },
      "execution_count": null,
      "outputs": []
    }
  ]
}